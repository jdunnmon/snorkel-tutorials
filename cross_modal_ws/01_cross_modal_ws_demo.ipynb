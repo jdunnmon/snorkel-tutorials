{
 "cells": [
  {
   "cell_type": "markdown",
   "metadata": {},
   "source": [
    "# Classifying Chest X-rays with Cross-Modal Data Programming"
   ]
  },
  {
   "cell_type": "markdown",
   "metadata": {},
   "source": [
    "This tutorial demonstrates how to use the *cross-modal data programming* technique described in Dunnmon and Ratner, et al. (2019) to build a Convolutional Neural Network (CNN) model for chest radiograph triage with no hand-labeled training data that performs similarly to a CNN supervised using several thousand data points labeled by radiologists. \n",
    "\n",
    "In cross-modal data programming, we model and combine expert-provided heuristics written over an auxiliary modality (e.g. a text report), which is only available at training time, to create probabilistic labels for training a machine learning model over a target modality (e.g. a chest radiograph).  \n",
    "\n",
    "Below, we provide a step-by-step walkthrough of how to apply this technique to a small, publicly available chest radiograph dataset.  This process is equivalent to that followed for each dataset in our 2019 submission. \n",
    "\n",
    "We use high-level APIs from Snorkel to support heuristic development and model training."
   ]
  },
  {
   "cell_type": "markdown",
   "metadata": {},
   "source": [
    "## Step 0: Setting Up the Environment"
   ]
  },
  {
   "cell_type": "markdown",
   "metadata": {},
   "source": [
    "We begin by setting up our notebook environment and importing relevant Python packages."
   ]
  },
  {
   "cell_type": "code",
   "execution_count": 109,
   "metadata": {},
   "outputs": [
    {
     "name": "stdout",
     "output_type": "stream",
     "text": [
      "The autoreload extension is already loaded. To reload it, use:\n",
      "  %reload_ext autoreload\n",
      "GPU Available? True\n"
     ]
    }
   ],
   "source": [
    "%load_ext autoreload\n",
    "%autoreload 2\n",
    "%matplotlib inline\n",
    "\n",
    "import sys, os\n",
    "import torch\n",
    "# Making sure CUDA devices are visible\n",
    "os.environ['CUDA_VISIBLE_DEVICES']='0'\n",
    "print(f'GPU Available? {torch.cuda.is_available()}')\n",
    "\n",
    "# Importing pandas for data processing\n",
    "import pandas as pd"
   ]
  },
  {
   "cell_type": "markdown",
   "metadata": {},
   "source": [
    "## Step 0: Downloading Data"
   ]
  },
  {
   "cell_type": "markdown",
   "metadata": {},
   "source": [
    "Run the cell below (uncommented) to download your data; only do this once!"
   ]
  },
  {
   "cell_type": "code",
   "execution_count": 110,
   "metadata": {},
   "outputs": [],
   "source": [
    "#! bash data/download.sh\n",
    "#! mv openi data\n",
    "#! rm NLMCXR_png.tgz"
   ]
  },
  {
   "cell_type": "markdown",
   "metadata": {},
   "source": [
    "## Step 1: Loading and Splitting the Data"
   ]
  },
  {
   "cell_type": "markdown",
   "metadata": {},
   "source": [
    "First, we set up the data dictionary and load data that we've already split for you into an (approximately) 80% train split, 10% validation split, and 10% test split.  Each raw data point contains three fields: a text report, a label (normal or abnormal), and a set of image paths.  The original data, from the OpenI dataset, is maintained by [NIH](https://openi.nlm.nih.gov/faq.php)."
   ]
  },
  {
   "cell_type": "code",
   "execution_count": 111,
   "metadata": {},
   "outputs": [
    {
     "name": "stdout",
     "output_type": "stream",
     "text": [
      "2630 train examples: 63.8% Abnormal\n",
      "376 dev examples: 63.0% Abnormal\n",
      "378 test examples: 61.6% Abnormal\n"
     ]
    }
   ],
   "source": [
    "# Setting up data dictionary and defining data splits\n",
    "data = {}\n",
    "splits = ['train','dev','test']\n",
    "\n",
    "for split in splits:\n",
    "    data[split] = pd.read_csv(f'data/{split}_entries.csv')[['label','xray_paths','text']]\n",
    "    perc_pos = sum(data[split]['label']==1)/len(data[split])\n",
    "    print(f'{len(data[split])} {split} examples: {100*perc_pos:0.1f}% Abnormal')"
   ]
  },
  {
   "cell_type": "markdown",
   "metadata": {},
   "source": [
    "You can see an example of a single data point below -- note that the raw label convention for our normal vs. abnormal classification problem is 1 for abnormal and 2 for normal."
   ]
  },
  {
   "cell_type": "code",
   "execution_count": 112,
   "metadata": {},
   "outputs": [
    {
     "name": "stdout",
     "output_type": "stream",
     "text": [
      "RAW TEXT:\n",
      " \n",
      " COMPARISON: Chest x-XXXX XXXX INDICATION: XXXX in bathtub FINDINGS: The lungs and pleural spaces show no acute abnormality. Hyperexpanded lungs. Calcified right upper lobe granuloma, unchanged. Heart size and pulmonary vascularity within normal limits. No displaced rib fractures. IMPRESSION: 1. Hyperexpansion without acute pulmonary abnormality. \n",
      "\n",
      "IMAGE PATHS: \n",
      " \n",
      " ./data/openi/xrays/CXR2824_IM-1245-13001.png \n",
      "\n",
      "LABEL: 1\n"
     ]
    }
   ],
   "source": [
    "# Getting a single sample from the dataframe\n",
    "# Change sample_index to see different examples\n",
    "\n",
    "sample_index = 0\n",
    "sample = data['train'].iloc[sample_index]\n",
    "print('RAW TEXT:\\n \\n',sample['text'],'\\n')\n",
    "print('IMAGE PATHS: \\n \\n', sample['xray_paths'],'\\n')\n",
    "print('LABEL:', sample['label'])"
   ]
  },
  {
   "cell_type": "markdown",
   "metadata": {},
   "source": [
    "## Step 2: Developing LFs"
   ]
  },
  {
   "cell_type": "markdown",
   "metadata": {},
   "source": [
    "We now define our *labeling functions* (LFs): simple, heuristic functions written by a domain expert (e.g., a radiologist) that correctly label a report as normal or abnormal with probability better than random chance.  \n",
    "\n",
    "We give an example of all three types of LFs we reference in our paper: general pattern LFs that operate on patterns a non-expert user could easily identify, medical pattern LFs that operate on patterns easily identifiable by a clinician, and structural LFs that focus on specific structural elements of the report (e.g. how long it is) that have some correlation with the scan it describes being normal or abnormal."
   ]
  },
  {
   "cell_type": "code",
   "execution_count": 113,
   "metadata": {},
   "outputs": [],
   "source": [
    "import re\n",
    "from snorkel.labeling import labeling_function\n",
    "\n",
    "# Value to use for abstain votes\n",
    "ABSTAIN = -1\n",
    "# Value to use for abnormal votes\n",
    "ABNORMAL = 1\n",
    "# Value to use for normal votes\n",
    "NORMAL = 0\n",
    "\n",
    "# Example of a General Pattern LF\n",
    "@labeling_function()\n",
    "def LF_is_seen_or_noted_in_report_demo(x):\n",
    "    if any(word in x.text.lower() for word in [\"is seen\", \"noted\"]):\n",
    "        return ABNORMAL\n",
    "    else:\n",
    "        return ABSTAIN\n",
    "\n",
    "# Example of a Medical Pattern LF\n",
    "@labeling_function()\n",
    "def LF_lung_hyperdistention_demo(x):\n",
    "    \"\"\"\n",
    "    Votes abnormal for indications of lung hyperdistention.\n",
    "    \"\"\"\n",
    "    reg_01 = re.compile(\"increased volume|hyperexpan|inflated\", re.IGNORECASE)\n",
    "    for s in x.text.split(\".\"):\n",
    "        if reg_01.search(s):\n",
    "            return ABNORMAL\n",
    "    ### *** ###\n",
    "    return NORMAL\n",
    "\n",
    "# Example of a Structural LF\n",
    "@labeling_function()\n",
    "def LF_report_is_short_demo(x):\n",
    "    \"\"\"\n",
    "    Checks if report is short.\n",
    "    \"\"\"\n",
    "    return NORMAL if len(x.text) < 280 else ABSTAIN"
   ]
  },
  {
   "cell_type": "markdown",
   "metadata": {},
   "source": [
    "Now, we can see how well these LFs might do at correctly indicating normal or abnormal examples.  Check them out by changing the `lf_test` function in the cell below to reference one of those listed above. "
   ]
  },
  {
   "cell_type": "code",
   "execution_count": 114,
   "metadata": {},
   "outputs": [
    {
     "name": "stderr",
     "output_type": "stream",
     "text": [
      "100%|██████████| 376/376 [00:00<00:00, 26530.15it/s]\n"
     ]
    },
    {
     "data": {
      "text/html": [
       "<div>\n",
       "<style scoped>\n",
       "    .dataframe tbody tr th:only-of-type {\n",
       "        vertical-align: middle;\n",
       "    }\n",
       "\n",
       "    .dataframe tbody tr th {\n",
       "        vertical-align: top;\n",
       "    }\n",
       "\n",
       "    .dataframe thead th {\n",
       "        text-align: right;\n",
       "    }\n",
       "</style>\n",
       "<table border=\"1\" class=\"dataframe\">\n",
       "  <thead>\n",
       "    <tr style=\"text-align: right;\">\n",
       "      <th></th>\n",
       "      <th>j</th>\n",
       "      <th>Polarity</th>\n",
       "      <th>Coverage</th>\n",
       "      <th>Overlaps</th>\n",
       "      <th>Conflicts</th>\n",
       "      <th>Correct</th>\n",
       "      <th>Incorrect</th>\n",
       "      <th>Emp. Acc.</th>\n",
       "    </tr>\n",
       "  </thead>\n",
       "  <tbody>\n",
       "    <tr>\n",
       "      <th>LF_lung_hyperdistention_demo</th>\n",
       "      <td>0</td>\n",
       "      <td>[0, 1]</td>\n",
       "      <td>1.0</td>\n",
       "      <td>0.0</td>\n",
       "      <td>0.0</td>\n",
       "      <td>168</td>\n",
       "      <td>208</td>\n",
       "      <td>0.446809</td>\n",
       "    </tr>\n",
       "  </tbody>\n",
       "</table>\n",
       "</div>"
      ],
      "text/plain": [
       "                              j Polarity  Coverage  Overlaps  Conflicts  \\\n",
       "LF_lung_hyperdistention_demo  0   [0, 1]       1.0       0.0        0.0   \n",
       "\n",
       "                              Correct  Incorrect  Emp. Acc.  \n",
       "LF_lung_hyperdistention_demo      168        208   0.446809  "
      ]
     },
     "execution_count": 114,
     "metadata": {},
     "output_type": "execute_result"
    }
   ],
   "source": [
    "from snorkel.labeling import PandasLFApplier, LFAnalysis\n",
    "\n",
    "# Testing single LF\n",
    "lfs_test = [LF_lung_hyperdistention_demo]\n",
    "\n",
    "# Computing LF outputs on dev set\n",
    "applier = PandasLFApplier(lfs=lfs_test)\n",
    "L_dev = applier.apply(df=data['dev'])\n",
    "\n",
    "# Getting ground truth dev set labels\n",
    "Y_dev = data['dev'].label.values\n",
    "\n",
    "# Summarizing LF performance\n",
    "LFAnalysis(L=L_dev, lfs=lfs_test).lf_summary(Y=Y_dev)"
   ]
  },
  {
   "cell_type": "markdown",
   "metadata": {},
   "source": [
    "If we use analyze the `LF_lung_hyperdistention_demo` function -- in this case,  we see that it has polarity [1,2], meaning it votes on both class 1 and class 2 (and votes on every example because `coverage` = 1.0), but that it has low accuracy (around 44%).  Let's look at the confusion matrix to see why. "
   ]
  },
  {
   "cell_type": "code",
   "execution_count": 115,
   "metadata": {},
   "outputs": [
    {
     "name": "stdout",
     "output_type": "stream",
     "text": [
      "        y=0    y=1   \n",
      " l=0    136    205   \n",
      " l=1     3     32    \n"
     ]
    }
   ],
   "source": [
    "from utils import confusion_matrix\n",
    "\n",
    "# HACK: API DOESN'T HAVE NICE PRINTING ANY MORE?\n",
    "\n",
    "# Print confusion matrix\n",
    "conf = confusion_matrix(Y_dev, L_dev[0:])"
   ]
  },
  {
   "cell_type": "markdown",
   "metadata": {},
   "source": [
    "Clearly, this LF is much more accurate on abnormal examples (where y=1) than on normal examples (where y=2).  Why don't we adjust it to only vote in the positive direction and see how we do?  \n",
    "\n",
    "Go ahead and change `NORMAL` to `ABSTAIN` in the `LF_lung_hyperdistention_demo` function (the line below the `### *** ###` comment), and rerun the last three code cells.  \n",
    "\n",
    "You'll see that by making this rule a bit more targeted, its coverage decreases to 9%, but it's accuracy jumps to over 90%.  This type of iteration is exactly how clinicians can develop LFs in practice.\n",
    "\n",
    "You may also notice that it's very easy to write these LFs over text, but it would be very hard to, say, write an `LF_lung_hyperdistention` version that operates over an image -- this is why cross-modality is so important!"
   ]
  },
  {
   "cell_type": "markdown",
   "metadata": {},
   "source": [
    "## Step 3: Computing the Label Matrix"
   ]
  },
  {
   "cell_type": "markdown",
   "metadata": {},
   "source": [
    "Once we've designed a couple of LFs, it's time to execute them all on every example we have to create a *label matrix*.  This is an $n$ by $m$ matrix, where $n$ is the number of examples and $m$ is the number of LFs.  \n",
    "\n",
    "Below, we've provided more LFs to give you a sense of a what a real application would look like -- code for these can be found in the `labeling_functions.py` file in this directory."
   ]
  },
  {
   "cell_type": "code",
   "execution_count": 116,
   "metadata": {},
   "outputs": [],
   "source": [
    "from labeling_functions import *\n",
    "\n",
    "lfs = [\n",
    "    LF_report_is_short,\n",
    "    LF_consistency_in_report,\n",
    "    LF_negative_inflection_words_in_report,\n",
    "    LF_is_seen_or_noted_in_report,\n",
    "    LF_disease_in_report,\n",
    "    LF_abnormal_mesh_terms_in_report,\n",
    "    LF_recommend_in_report,\n",
    "    LF_mm_in_report,\n",
    "    LF_normal,\n",
    "    LF_positive_MeshTerm,\n",
    "    LF_fracture,\n",
    "    LF_calcinosis,\n",
    "    LF_degen_spine,\n",
    "    LF_lung_hypoinflation,\n",
    "    LF_lung_hyperdistention,\n",
    "    LF_catheters,\n",
    "    LF_surgical,\n",
    "    LF_granuloma,\n",
    "]"
   ]
  },
  {
   "cell_type": "markdown",
   "metadata": {},
   "source": [
    "Now, we simply apply each of our LFs to each of our reports."
   ]
  },
  {
   "cell_type": "code",
   "execution_count": 117,
   "metadata": {},
   "outputs": [
    {
     "name": "stderr",
     "output_type": "stream",
     "text": [
      "  6%|▌         | 156/2630 [00:00<00:01, 1556.37it/s]"
     ]
    },
    {
     "name": "stdout",
     "output_type": "stream",
     "text": [
      "Computing label matrices and creating ground truth label vectors...\n"
     ]
    },
    {
     "name": "stderr",
     "output_type": "stream",
     "text": [
      "100%|██████████| 2630/2630 [00:01<00:00, 1721.10it/s]\n",
      "100%|██████████| 376/376 [00:00<00:00, 2045.74it/s]\n",
      "100%|██████████| 378/378 [00:00<00:00, 1960.67it/s]\n"
     ]
    }
   ],
   "source": [
    "# Allocating label matrix and ground truth label lists\n",
    "Ls = {}\n",
    "Ys = {}\n",
    "\n",
    "# Computing lfs\n",
    "print('Computing label matrices and creating ground truth label vectors...')\n",
    "applier = PandasLFApplier(lfs=lfs)\n",
    "\n",
    "for split in ['train','dev','test']:\n",
    "    Ls[split] = applier.apply(df=data[split])\n",
    "    Ys[split] = data[split].label.values"
   ]
  },
  {
   "cell_type": "markdown",
   "metadata": {},
   "source": [
    "Now that we've done this, we can inspect our accuracy on the development set and other useful LF metrics using the simple Snorkel interface."
   ]
  },
  {
   "cell_type": "code",
   "execution_count": 118,
   "metadata": {},
   "outputs": [
    {
     "data": {
      "text/html": [
       "<div>\n",
       "<style scoped>\n",
       "    .dataframe tbody tr th:only-of-type {\n",
       "        vertical-align: middle;\n",
       "    }\n",
       "\n",
       "    .dataframe tbody tr th {\n",
       "        vertical-align: top;\n",
       "    }\n",
       "\n",
       "    .dataframe thead th {\n",
       "        text-align: right;\n",
       "    }\n",
       "</style>\n",
       "<table border=\"1\" class=\"dataframe\">\n",
       "  <thead>\n",
       "    <tr style=\"text-align: right;\">\n",
       "      <th></th>\n",
       "      <th>j</th>\n",
       "      <th>Polarity</th>\n",
       "      <th>Coverage</th>\n",
       "      <th>Overlaps</th>\n",
       "      <th>Conflicts</th>\n",
       "      <th>Correct</th>\n",
       "      <th>Incorrect</th>\n",
       "      <th>Emp. Acc.</th>\n",
       "    </tr>\n",
       "  </thead>\n",
       "  <tbody>\n",
       "    <tr>\n",
       "      <th>LF_report_is_short</th>\n",
       "      <td>0</td>\n",
       "      <td>[0]</td>\n",
       "      <td>0.303191</td>\n",
       "      <td>0.303191</td>\n",
       "      <td>0.196809</td>\n",
       "      <td>72</td>\n",
       "      <td>42</td>\n",
       "      <td>0.631579</td>\n",
       "    </tr>\n",
       "    <tr>\n",
       "      <th>LF_consistency_in_report</th>\n",
       "      <td>1</td>\n",
       "      <td>[0, 1]</td>\n",
       "      <td>1.000000</td>\n",
       "      <td>0.928191</td>\n",
       "      <td>0.476064</td>\n",
       "      <td>269</td>\n",
       "      <td>107</td>\n",
       "      <td>0.715426</td>\n",
       "    </tr>\n",
       "    <tr>\n",
       "      <th>LF_negative_inflection_words_in_report</th>\n",
       "      <td>2</td>\n",
       "      <td>[1]</td>\n",
       "      <td>0.082447</td>\n",
       "      <td>0.082447</td>\n",
       "      <td>0.039894</td>\n",
       "      <td>30</td>\n",
       "      <td>1</td>\n",
       "      <td>0.967742</td>\n",
       "    </tr>\n",
       "    <tr>\n",
       "      <th>LF_is_seen_or_noted_in_report</th>\n",
       "      <td>3</td>\n",
       "      <td>[1]</td>\n",
       "      <td>0.085106</td>\n",
       "      <td>0.085106</td>\n",
       "      <td>0.034574</td>\n",
       "      <td>25</td>\n",
       "      <td>7</td>\n",
       "      <td>0.781250</td>\n",
       "    </tr>\n",
       "    <tr>\n",
       "      <th>LF_disease_in_report</th>\n",
       "      <td>4</td>\n",
       "      <td>[1]</td>\n",
       "      <td>0.372340</td>\n",
       "      <td>0.372340</td>\n",
       "      <td>0.234043</td>\n",
       "      <td>89</td>\n",
       "      <td>51</td>\n",
       "      <td>0.635714</td>\n",
       "    </tr>\n",
       "    <tr>\n",
       "      <th>LF_abnormal_mesh_terms_in_report</th>\n",
       "      <td>5</td>\n",
       "      <td>[1]</td>\n",
       "      <td>0.417553</td>\n",
       "      <td>0.417553</td>\n",
       "      <td>0.204787</td>\n",
       "      <td>141</td>\n",
       "      <td>16</td>\n",
       "      <td>0.898089</td>\n",
       "    </tr>\n",
       "    <tr>\n",
       "      <th>LF_recommend_in_report</th>\n",
       "      <td>6</td>\n",
       "      <td>[1]</td>\n",
       "      <td>0.015957</td>\n",
       "      <td>0.015957</td>\n",
       "      <td>0.002660</td>\n",
       "      <td>6</td>\n",
       "      <td>0</td>\n",
       "      <td>1.000000</td>\n",
       "    </tr>\n",
       "    <tr>\n",
       "      <th>LF_mm_in_report</th>\n",
       "      <td>7</td>\n",
       "      <td>[1]</td>\n",
       "      <td>0.053191</td>\n",
       "      <td>0.053191</td>\n",
       "      <td>0.010638</td>\n",
       "      <td>20</td>\n",
       "      <td>0</td>\n",
       "      <td>1.000000</td>\n",
       "    </tr>\n",
       "    <tr>\n",
       "      <th>LF_normal</th>\n",
       "      <td>8</td>\n",
       "      <td>[0]</td>\n",
       "      <td>0.159574</td>\n",
       "      <td>0.159574</td>\n",
       "      <td>0.082447</td>\n",
       "      <td>34</td>\n",
       "      <td>26</td>\n",
       "      <td>0.566667</td>\n",
       "    </tr>\n",
       "    <tr>\n",
       "      <th>LF_positive_MeshTerm</th>\n",
       "      <td>9</td>\n",
       "      <td>[1]</td>\n",
       "      <td>0.295213</td>\n",
       "      <td>0.295213</td>\n",
       "      <td>0.143617</td>\n",
       "      <td>108</td>\n",
       "      <td>3</td>\n",
       "      <td>0.972973</td>\n",
       "    </tr>\n",
       "    <tr>\n",
       "      <th>LF_fracture</th>\n",
       "      <td>10</td>\n",
       "      <td>[1]</td>\n",
       "      <td>0.031915</td>\n",
       "      <td>0.031915</td>\n",
       "      <td>0.013298</td>\n",
       "      <td>11</td>\n",
       "      <td>1</td>\n",
       "      <td>0.916667</td>\n",
       "    </tr>\n",
       "    <tr>\n",
       "      <th>LF_calcinosis</th>\n",
       "      <td>11</td>\n",
       "      <td>[1]</td>\n",
       "      <td>0.018617</td>\n",
       "      <td>0.018617</td>\n",
       "      <td>0.007979</td>\n",
       "      <td>7</td>\n",
       "      <td>0</td>\n",
       "      <td>1.000000</td>\n",
       "    </tr>\n",
       "    <tr>\n",
       "      <th>LF_degen_spine</th>\n",
       "      <td>12</td>\n",
       "      <td>[1]</td>\n",
       "      <td>0.111702</td>\n",
       "      <td>0.111702</td>\n",
       "      <td>0.039894</td>\n",
       "      <td>42</td>\n",
       "      <td>0</td>\n",
       "      <td>1.000000</td>\n",
       "    </tr>\n",
       "    <tr>\n",
       "      <th>LF_lung_hypoinflation</th>\n",
       "      <td>13</td>\n",
       "      <td>[1]</td>\n",
       "      <td>0.069149</td>\n",
       "      <td>0.069149</td>\n",
       "      <td>0.023936</td>\n",
       "      <td>26</td>\n",
       "      <td>0</td>\n",
       "      <td>1.000000</td>\n",
       "    </tr>\n",
       "    <tr>\n",
       "      <th>LF_lung_hyperdistention</th>\n",
       "      <td>14</td>\n",
       "      <td>[1]</td>\n",
       "      <td>0.093085</td>\n",
       "      <td>0.093085</td>\n",
       "      <td>0.053191</td>\n",
       "      <td>32</td>\n",
       "      <td>3</td>\n",
       "      <td>0.914286</td>\n",
       "    </tr>\n",
       "    <tr>\n",
       "      <th>LF_catheters</th>\n",
       "      <td>15</td>\n",
       "      <td>[1]</td>\n",
       "      <td>0.034574</td>\n",
       "      <td>0.034574</td>\n",
       "      <td>0.013298</td>\n",
       "      <td>12</td>\n",
       "      <td>1</td>\n",
       "      <td>0.923077</td>\n",
       "    </tr>\n",
       "    <tr>\n",
       "      <th>LF_surgical</th>\n",
       "      <td>16</td>\n",
       "      <td>[1]</td>\n",
       "      <td>0.029255</td>\n",
       "      <td>0.029255</td>\n",
       "      <td>0.007979</td>\n",
       "      <td>11</td>\n",
       "      <td>0</td>\n",
       "      <td>1.000000</td>\n",
       "    </tr>\n",
       "    <tr>\n",
       "      <th>LF_granuloma</th>\n",
       "      <td>17</td>\n",
       "      <td>[1]</td>\n",
       "      <td>0.140957</td>\n",
       "      <td>0.140957</td>\n",
       "      <td>0.079787</td>\n",
       "      <td>53</td>\n",
       "      <td>0</td>\n",
       "      <td>1.000000</td>\n",
       "    </tr>\n",
       "  </tbody>\n",
       "</table>\n",
       "</div>"
      ],
      "text/plain": [
       "                                         j Polarity  Coverage  Overlaps  \\\n",
       "LF_report_is_short                       0      [0]  0.303191  0.303191   \n",
       "LF_consistency_in_report                 1   [0, 1]  1.000000  0.928191   \n",
       "LF_negative_inflection_words_in_report   2      [1]  0.082447  0.082447   \n",
       "LF_is_seen_or_noted_in_report            3      [1]  0.085106  0.085106   \n",
       "LF_disease_in_report                     4      [1]  0.372340  0.372340   \n",
       "LF_abnormal_mesh_terms_in_report         5      [1]  0.417553  0.417553   \n",
       "LF_recommend_in_report                   6      [1]  0.015957  0.015957   \n",
       "LF_mm_in_report                          7      [1]  0.053191  0.053191   \n",
       "LF_normal                                8      [0]  0.159574  0.159574   \n",
       "LF_positive_MeshTerm                     9      [1]  0.295213  0.295213   \n",
       "LF_fracture                             10      [1]  0.031915  0.031915   \n",
       "LF_calcinosis                           11      [1]  0.018617  0.018617   \n",
       "LF_degen_spine                          12      [1]  0.111702  0.111702   \n",
       "LF_lung_hypoinflation                   13      [1]  0.069149  0.069149   \n",
       "LF_lung_hyperdistention                 14      [1]  0.093085  0.093085   \n",
       "LF_catheters                            15      [1]  0.034574  0.034574   \n",
       "LF_surgical                             16      [1]  0.029255  0.029255   \n",
       "LF_granuloma                            17      [1]  0.140957  0.140957   \n",
       "\n",
       "                                        Conflicts  Correct  Incorrect  \\\n",
       "LF_report_is_short                       0.196809       72         42   \n",
       "LF_consistency_in_report                 0.476064      269        107   \n",
       "LF_negative_inflection_words_in_report   0.039894       30          1   \n",
       "LF_is_seen_or_noted_in_report            0.034574       25          7   \n",
       "LF_disease_in_report                     0.234043       89         51   \n",
       "LF_abnormal_mesh_terms_in_report         0.204787      141         16   \n",
       "LF_recommend_in_report                   0.002660        6          0   \n",
       "LF_mm_in_report                          0.010638       20          0   \n",
       "LF_normal                                0.082447       34         26   \n",
       "LF_positive_MeshTerm                     0.143617      108          3   \n",
       "LF_fracture                              0.013298       11          1   \n",
       "LF_calcinosis                            0.007979        7          0   \n",
       "LF_degen_spine                           0.039894       42          0   \n",
       "LF_lung_hypoinflation                    0.023936       26          0   \n",
       "LF_lung_hyperdistention                  0.053191       32          3   \n",
       "LF_catheters                             0.013298       12          1   \n",
       "LF_surgical                              0.007979       11          0   \n",
       "LF_granuloma                             0.079787       53          0   \n",
       "\n",
       "                                        Emp. Acc.  \n",
       "LF_report_is_short                       0.631579  \n",
       "LF_consistency_in_report                 0.715426  \n",
       "LF_negative_inflection_words_in_report   0.967742  \n",
       "LF_is_seen_or_noted_in_report            0.781250  \n",
       "LF_disease_in_report                     0.635714  \n",
       "LF_abnormal_mesh_terms_in_report         0.898089  \n",
       "LF_recommend_in_report                   1.000000  \n",
       "LF_mm_in_report                          1.000000  \n",
       "LF_normal                                0.566667  \n",
       "LF_positive_MeshTerm                     0.972973  \n",
       "LF_fracture                              0.916667  \n",
       "LF_calcinosis                            1.000000  \n",
       "LF_degen_spine                           1.000000  \n",
       "LF_lung_hypoinflation                    1.000000  \n",
       "LF_lung_hyperdistention                  0.914286  \n",
       "LF_catheters                             0.923077  \n",
       "LF_surgical                              1.000000  \n",
       "LF_granuloma                             1.000000  "
      ]
     },
     "execution_count": 118,
     "metadata": {},
     "output_type": "execute_result"
    }
   ],
   "source": [
    "# Summarizing LF performance\n",
    "LFAnalysis(L=Ls['dev'], lfs=lfs).lf_summary(Y=Y_dev)"
   ]
  },
  {
   "cell_type": "markdown",
   "metadata": {},
   "source": [
    "Note that all of our labeling functions, while certainly imperfect, are better than random chance.  This fulfills the only theoretical requirement of the cross-modal data programming algorithm.  \n",
    "\n",
    "We can also get a sense of where the LFs overlap and conflict by inspecting the following plot; it is useful that some of the LFs overlap or conflict, as this provides signal that allows us to learn their accuracies."
   ]
  },
  {
   "cell_type": "code",
   "execution_count": 119,
   "metadata": {},
   "outputs": [
    {
     "data": {
      "image/png": "[encoded data removed]",
      "text/plain": [
       "<Figure size 432x288 with 2 Axes>"
      ]
     },
     "metadata": {
      "needs_background": "light"
     },
     "output_type": "display_data"
    }
   ],
   "source": [
    "from utils import view_conflicts\n",
    "\n",
    "# HACK: WHY IS THIS DIFFERENT THAN BEFORE? CHECK INDEXING\n",
    "# Viewing conflicts\n",
    "view_conflicts(Ls['dev'], normalize=True)"
   ]
  },
  {
   "cell_type": "markdown",
   "metadata": {},
   "source": [
    "## Step 4: Train a Label Model in Snorkel"
   ]
  },
  {
   "cell_type": "markdown",
   "metadata": {},
   "source": [
    "Next, we use the Snorkel MeTaL model training API (imported as `metal`) to train a generative model that learns the accuracies of our LFs.  By combining our labeling functions based on their accuracies, we can recover a model that outputs higher quality\n",
    "weak labels.\n",
    "\n",
    "We perform a simple random hyperparameter search over learning rate and L2 regularization, using our small labeled development set to choose the best model.  "
   ]
  },
  {
   "cell_type": "code",
   "execution_count": 120,
   "metadata": {},
   "outputs": [],
   "source": [
    "from snorkel.labeling import LabelModel\n",
    "import warnings\n",
    "warnings.filterwarnings('ignore')\n",
    "\n",
    "# HACK: NO VERBOSE TRAINING ANYMORE?\n",
    "\n",
    "gm = LabelModel(cardinality=2, verbose=True)\n",
    "gm.fit(L_train=Ls['train'], n_epochs=10000, lr=0.01, log_freq=100, seed=123)"
   ]
  },
  {
   "cell_type": "markdown",
   "metadata": {},
   "source": [
    "We evaluate our best model on the development set as below -- you should recover a model with best accuracy of approximately 85% on the development set."
   ]
  },
  {
   "cell_type": "code",
   "execution_count": 121,
   "metadata": {},
   "outputs": [
    {
     "name": "stderr",
     "output_type": "stream",
     "text": [
      "WARNING:root:Metrics calculated over data points with non-abstain labels only\n"
     ]
    },
    {
     "name": "stdout",
     "output_type": "stream",
     "text": [
      "Generative Model Scores\n",
      "accuracy : 87.2%\n",
      "precision : 92.4%\n",
      "recall : 86.9%\n",
      "f1 : 89.6%\n",
      "roc_auc : 93.4%\n"
     ]
    }
   ],
   "source": [
    "# GM SCORING CELL\n",
    "# Getting scores\n",
    "scores = gm.score(Ls['dev'], Y=Ys['dev'], metrics=['accuracy','precision', 'recall', 'f1','roc_auc'])\n",
    "print(\"Generative Model Scores\")\n",
    "_ = [print(f\"{k} : {v*100:.1f}%\") for (k,v) in scores.items()]"
   ]
  },
  {
   "cell_type": "markdown",
   "metadata": {},
   "source": [
    "Why is this useful?  If we compare to majority vote, we see a couple points of improvement in accuracy.  Note that the degree to which we expect this model to improve over majority vote varies based on the type of dataset involved, as detailed in the 2017 [VLDB Paper](http://www.vldb.org/pvldb/vol11/p269-ratner.pdf) describing the Snorkel system."
   ]
  },
  {
   "cell_type": "code",
   "execution_count": 122,
   "metadata": {},
   "outputs": [
    {
     "name": "stderr",
     "output_type": "stream",
     "text": [
      "WARNING:root:Metrics calculated over data points with non-abstain labels only\n"
     ]
    },
    {
     "name": "stdout",
     "output_type": "stream",
     "text": [
      "Majority Vote Scores\n",
      "accuracy : 87.1%\n",
      "precision : 93.7%\n",
      "recall : 85.6%\n",
      "f1 : 89.5%\n",
      "roc_auc : 87.7%\n"
     ]
    }
   ],
   "source": [
    "from snorkel.labeling import MajorityLabelVoter\n",
    "\n",
    "majority_model = MajorityLabelVoter()\n",
    "preds_train = majority_model.predict(L=Ls['train'])\n",
    "\n",
    "# Checking if we beat majority vote\n",
    "mv = MajorityLabelVoter()\n",
    "scores = mv.score(Ls['dev'], Y=Ys['dev'], metrics=['accuracy','precision', 'recall', 'f1','roc_auc'])\n",
    "print(\"Majority Vote Scores\")\n",
    "_ = [print(f\"{k} : {v*100:.1f}%\") for (k,v) in scores.items()]"
   ]
  },
  {
   "cell_type": "markdown",
   "metadata": {},
   "source": [
    "## Step 5: Apply Heuristic Optimizer for LSTM Training"
   ]
  },
  {
   "cell_type": "markdown",
   "metadata": {},
   "source": [
    "We now apply the cross-modal data programming heuristic optimizer to determine whether or not to train an LSTM mapping the raw report text to the generative model output.  We can train a text model (as in the spam example) to directly map our raw text to the generative model output if either our (a) coverage or (b) ROC-AUC is low.  Heuristically, we often train such a model using standard tools from PyTorch in cases where either coverage or ROC-AUC of the generative model on the development set is less than 90%.  \n",
    "\n",
    "For this example, our coverage is 100%, and generative model (`gm`) ROC-AUC should be around 92% on the development set (see cell above with comment `GM SCORING CELL`).  Thus, we forego training the LSTM, and use our generative model directly to provide weak labels for our target modality model."
   ]
  },
  {
   "cell_type": "markdown",
   "metadata": {},
   "source": [
    "## Step 6: Create a Weakly Labeled Training Set"
   ]
  },
  {
   "cell_type": "markdown",
   "metadata": {},
   "source": [
    "We can now use this trained generative model to create weak labels for each of our train, development, and test splits by applying it to the label matrices, as below. "
   ]
  },
  {
   "cell_type": "code",
   "execution_count": 123,
   "metadata": {},
   "outputs": [],
   "source": [
    "Y_ps = {}\n",
    "Y_preds = {}\n",
    "for split in ['train','dev','test']:\n",
    "    Y_ps[split] = gm.predict_proba(Ls[split])\n",
    "    Y_preds[split] = gm.predict(Ls[split])"
   ]
  },
  {
   "cell_type": "markdown",
   "metadata": {},
   "source": [
    "We can inspect the distribution of our weak training labels, and note that they are assigned varying degrees of probability.  An advantage of this labeling approach is that probabilistic labels can be very descriptive -- i.e., if an example has a 60% probability of being abnormal, we train against that 0.6 probability, rather than binarizing to 100%.  "
   ]
  },
  {
   "cell_type": "code",
   "execution_count": 124,
   "metadata": {},
   "outputs": [
    {
     "data": {
      "image/png": "[encoded data removed]",
      "text/plain": [
       "<Figure size 432x288 with 1 Axes>"
      ]
     },
     "metadata": {
      "needs_background": "light"
     },
     "output_type": "display_data"
    }
   ],
   "source": [
    "from utils import plot_probabilities_histogram\n",
    "\n",
    "# Looking at probability histogram for training labels\n",
    "plot_probabilities_histogram(Y_ps['dev'][:,0], title=\"Probablistic Label Distribution\")"
   ]
  },
  {
   "cell_type": "markdown",
   "metadata": {},
   "source": [
    "Using the development set, we can also check that the class balance of our weak labels if we were to naively binarize at the 0.5 cutoff -- we see reasonable behavior here."
   ]
  },
  {
   "cell_type": "code",
   "execution_count": 125,
   "metadata": {},
   "outputs": [
    {
     "data": {
      "image/png": "[encoded data removed]",
      "text/plain": [
       "<Figure size 432x288 with 1 Axes>"
      ]
     },
     "metadata": {
      "needs_background": "light"
     },
     "output_type": "display_data"
    }
   ],
   "source": [
    "from utils import plot_predictions_histogram\n",
    "# Obtaining binarized predictions\n",
    "Y_dev_p = gm.predict(Ls['dev'])\n",
    "plot_predictions_histogram(Y_preds['dev'], Ys['dev'], title=\"Label Distribution\")"
   ]
  },
  {
   "cell_type": "markdown",
   "metadata": {},
   "source": [
    "## Step 7 [SNORKEL VERSION]: Train a Weakly Supervised Target Modality Model"
   ]
  },
  {
   "cell_type": "markdown",
   "metadata": {},
   "source": [
    "Now that we have our weak training labels, we can train a commodity CNN using the high-level PyTorch API From Snorkel MeTaL.  The entire process of defining and training the model can be executed in the following two simple cells.\n",
    "\n",
    "First, we define PyTorch `DataLoader` objects to efficiently load our image data, associating each image with the weak label generated from its associated report."
   ]
  },
  {
   "cell_type": "code",
   "execution_count": 127,
   "metadata": {},
   "outputs": [],
   "source": [
    "import torch\n",
    "from torchvision import models\n",
    "from utils import get_data_loader, create_model\n",
    "\n",
    "# Create pytorch model\n",
    "num_classes = 2\n",
    "cnn_model = models.resnet50(pretrained=True)\n",
    "weakly_supervised_model = create_model(cnn_model, num_classes)\n",
    "\n",
    "# Create data loaders\n",
    "loaders = {}\n",
    "for split in ['train', 'dev', 'test']:\n",
    "    labs = Y_ps[split] if split == 'train' else Ys[split]\n",
    "    loaders[split] = get_data_loader(data[split]['xray_paths'].tolist(), labs, split=split, batch_size=32, shuffle=True)"
   ]
  },
  {
   "cell_type": "markdown",
   "metadata": {},
   "source": [
    "As an example, a single datapoint yields an image like this:"
   ]
  },
  {
   "cell_type": "code",
   "execution_count": 53,
   "metadata": {},
   "outputs": [
    {
     "data": {
      "image/png": "[encoded data removed]",
      "text/plain": [
       "<Figure size 432x288 with 1 Axes>"
      ]
     },
     "metadata": {
      "needs_background": "light"
     },
     "output_type": "display_data"
    }
   ],
   "source": [
    "import matplotlib.pyplot as plt\n",
    "img, label = loaders['train'].dataset[0][0]['xray'], loaders['train'].dataset[0][1]['openi_task']\n",
    "\n",
    "plt.figure()\n",
    "plt.imshow(img[0,:,:],cmap='gray')\n",
    "plt.title(f'Example X-ray Image, Label: {label.numpy()}')\n",
    "ax = plt.axis('off')"
   ]
  },
  {
   "cell_type": "markdown",
   "metadata": {},
   "source": [
    "Now that our `DataLoaders` are set up, it is a simple matter to define and train our CNN model. \n",
    "\n",
    "Note: While this will run if you do not have a CUDA-based GPU available (and will automatically detect it if you do), it will proceed *much* faster if you have one!  CPU-only per-epoch training time is ~ 15 minutes, while with a Titan X it is approximately 30 s!"
   ]
  },
  {
   "cell_type": "code",
   "execution_count": 55,
   "metadata": {},
   "outputs": [
    {
     "name": "stderr",
     "output_type": "stream",
     "text": [
      "Epoch 0:: 100%|██████████| 83/83 [00:26<00:00,  3.09it/s, model/all/train/loss=0.673, model/all/train/lr=0.0001, openi_task/valid/valid/accuracy=0.697, openi_task/valid/valid/precision=0.736, openi_task/valid/valid/recall=0.81, openi_task/valid/valid/f1=0.771, openi_task/valid/valid/roc_auc=0.763]\n",
      "Epoch 1:: 100%|██████████| 83/83 [00:26<00:00,  3.09it/s, model/all/train/loss=0.573, model/all/train/lr=0.0001, openi_task/valid/valid/accuracy=0.691, openi_task/valid/valid/precision=0.697, openi_task/valid/valid/recall=0.903, openi_task/valid/valid/f1=0.787, openi_task/valid/valid/roc_auc=0.744]\n",
      "Epoch 2:: 100%|██████████| 83/83 [00:26<00:00,  3.10it/s, model/all/train/loss=0.454, model/all/train/lr=0.0001, openi_task/valid/valid/accuracy=0.665, openi_task/valid/valid/precision=0.732, openi_task/valid/valid/recall=0.738, openi_task/valid/valid/f1=0.735, openi_task/valid/valid/roc_auc=0.712]\n",
      "Epoch 3:: 100%|██████████| 83/83 [00:26<00:00,  3.11it/s, model/all/train/loss=0.381, model/all/train/lr=0.0001, openi_task/valid/valid/accuracy=0.702, openi_task/valid/valid/precision=0.749, openi_task/valid/valid/recall=0.793, openi_task/valid/valid/f1=0.77, openi_task/valid/valid/roc_auc=0.745]\n",
      "Epoch 4:: 100%|██████████| 83/83 [00:26<00:00,  3.09it/s, model/all/train/loss=0.356, model/all/train/lr=0.0001, openi_task/valid/valid/accuracy=0.691, openi_task/valid/valid/precision=0.686, openi_task/valid/valid/recall=0.941, openi_task/valid/valid/f1=0.794, openi_task/valid/valid/roc_auc=0.728]\n"
     ]
    }
   ],
   "source": [
    "from snorkel.classification import Trainer\n",
    "\n",
    "trainer = Trainer(\n",
    "    n_epochs=5,  # increase for improved performance\n",
    "    lr=1e-4,\n",
    "    l2=1e-5,\n",
    "    checkpointing=True,\n",
    "    checkpointer_config={\"checkpoint_dir\": \"checkpoint\", \"checkpoint_metric\":\"openi_task/valid/valid/f1:max\"},\n",
    ")\n",
    "trainer.fit(weakly_supervised_model, [loaders['train'], loaders['dev'], loaders['test']])"
   ]
  },
  {
   "cell_type": "markdown",
   "metadata": {},
   "source": [
    "We can evaluate this model below, and see that we've learned some useful signal!  Remember that an Area Under the Receiver Operating Characteristic (ROC-AUC) score represents the probability across all possible cutoffs of ranking an abnormal example higher than a normal example.  If we've learned nothing useful, this value would be 0.5. \n",
    "\n",
    "You should expect a value above 0.70 for this training run."
   ]
  },
  {
   "cell_type": "code",
   "execution_count": 56,
   "metadata": {},
   "outputs": [
    {
     "name": "stdout",
     "output_type": "stream",
     "text": [
      "Evaluating Weakly Supervised Model\n",
      "Weakly Supervised Scores\n",
      "openi_task/test/test/accuracy : 68.0%\n",
      "openi_task/test/test/precision : 67.3%\n",
      "openi_task/test/test/recall : 93.6%\n",
      "openi_task/test/test/f1 : 78.3%\n",
      "openi_task/test/test/roc_auc : 71.5%\n"
     ]
    }
   ],
   "source": [
    "# Evaluating model\n",
    "print (f\"Evaluating Weakly Supervised Model\")\n",
    "scores = weakly_supervised_model.score(\n",
    "    [loaders['test']]\n",
    ")\n",
    "print(\"Weakly Supervised Scores\")\n",
    "_ = [print(f\"{k} : {v*100:.1f}%\") for (k,v) in scores.items()]"
   ]
  },
  {
   "cell_type": "markdown",
   "metadata": {},
   "source": [
    "## Step 8 [SNORKEL VERSION]: Comparing to a Fully Supervised Target Modality Model"
   ]
  },
  {
   "cell_type": "markdown",
   "metadata": {},
   "source": [
    "Because we have ground-truth labels for the entire dataset in this case (the OpenI dataset comes with these labels, which require physicians to label thousands of images!), we can compare how well our weakly supervised target modality model does with the performance we achieve from a fully supervised model.\n",
    "\n",
    "Executing this requires a simple change to the training dataloader to provide it with ground-truth labels."
   ]
  },
  {
   "cell_type": "code",
   "execution_count": 57,
   "metadata": {},
   "outputs": [
    {
     "name": "stderr",
     "output_type": "stream",
     "text": [
      "Epoch 0:: 100%|██████████| 83/83 [00:26<00:00,  3.09it/s, model/all/train/loss=0.423, model/all/train/lr=0.0001, openi_task/valid/valid/accuracy=0.726, openi_task/valid/valid/precision=0.777, openi_task/valid/valid/recall=0.793, openi_task/valid/valid/f1=0.785, openi_task/valid/valid/roc_auc=0.778]\n",
      "Epoch 1:: 100%|██████████| 83/83 [00:27<00:00,  3.07it/s, model/all/train/loss=0.163, model/all/train/lr=0.0001, openi_task/valid/valid/accuracy=0.731, openi_task/valid/valid/precision=0.743, openi_task/valid/valid/recall=0.878, openi_task/valid/valid/f1=0.805, openi_task/valid/valid/roc_auc=0.761]\n",
      "Epoch 2:: 100%|██████████| 83/83 [00:26<00:00,  3.10it/s, model/all/train/loss=0.08, model/all/train/lr=0.0001, openi_task/valid/valid/accuracy=0.694, openi_task/valid/valid/precision=0.796, openi_task/valid/valid/recall=0.692, openi_task/valid/valid/f1=0.74, openi_task/valid/valid/roc_auc=0.757]\n",
      "Epoch 3:: 100%|██████████| 83/83 [00:26<00:00,  3.10it/s, model/all/train/loss=0.0936, model/all/train/lr=0.0001, openi_task/valid/valid/accuracy=0.715, openi_task/valid/valid/precision=0.744, openi_task/valid/valid/recall=0.835, openi_task/valid/valid/f1=0.787, openi_task/valid/valid/roc_auc=0.755]\n",
      "Epoch 4:: 100%|██████████| 83/83 [00:26<00:00,  3.10it/s, model/all/train/loss=0.0754, model/all/train/lr=0.0001, openi_task/valid/valid/accuracy=0.726, openi_task/valid/valid/precision=0.766, openi_task/valid/valid/recall=0.814, openi_task/valid/valid/f1=0.789, openi_task/valid/valid/roc_auc=0.744]\n"
     ]
    }
   ],
   "source": [
    "from snorkel.utils.core import preds_to_probs\n",
    "fully_supervised_model = create_model(cnn_model, num_classes)\n",
    "\n",
    "# Replace training loader with fully supervised version\n",
    "loaders['train'] = get_data_loader(data['train']['xray_paths'].tolist(), preds_to_probs(Ys['train'], num_classes=2), split='train', batch_size=32, shuffle=True)\n",
    "\n",
    "# Training fully supervised model\n",
    "trainer.fit(fully_supervised_model, [loaders['train'], loaders['dev'], loaders['test']])"
   ]
  },
  {
   "cell_type": "markdown",
   "metadata": {},
   "source": [
    "Now, we can evaluate the weakly and fully supervised models.  "
   ]
  },
  {
   "cell_type": "code",
   "execution_count": 58,
   "metadata": {},
   "outputs": [
    {
     "name": "stdout",
     "output_type": "stream",
     "text": [
      "Evaluating Weakly Supervised Model\n",
      "roc_auc : 75.9%\n",
      "Evaluating Fully Supervised Model\n",
      "roc_auc : 76.0%\n"
     ]
    }
   ],
   "source": [
    "# Evaluating weakly model\n",
    "print (f\"Evaluating Weakly Supervised Model\")\n",
    "weakly_supervised_scores = weakly_supervised_model.score(\n",
    "    [loaders['test']]\n",
    ")\n",
    "_ = [print(f\"{k.split('/')[-1]} : {v*100:.1f}%\") for (k,v) in weakly_supervised_scores.items() if 'roc_auc' in k]\n",
    "\n",
    "# Evaluating fully supervised model\n",
    "print (f\"Evaluating Fully Supervised Model\")\n",
    "fully_supervised_scores = fully_supervised_model.score(\n",
    "    [loaders['test']]\n",
    ")\n",
    "_ = [print(f\"{k.split('/')[-1]} : {v*100:.1f}%\") for (k,v) in fully_supervised_scores.items() if 'roc_auc' in k]"
   ]
  },
  {
   "cell_type": "markdown",
   "metadata": {},
   "source": [
    "## Step 7 [Ludwig Version]: \n",
    "\n",
    "Now that we have our weak training labels, we can train a commodity CNN using the high-level Ludwig API.  See the [Ludwig tutorial](https://snorkel.org/use-cases/ludwig-tutorial) for details on how this works if you haven't tried it already!  The entire process of defining and training the model can be executed in the following simple cells.\n",
    "\n",
    "First, we save our data in the `.csv` format required by Ludwig; note that because we have full coverage from our LFs, we do not need to filter out abstentions from the training set:"
   ]
  },
  {
   "cell_type": "code",
   "execution_count": 69,
   "metadata": {},
   "outputs": [],
   "source": [
    "import os\n",
    "from utils import indices_to_one_hot, get_ludwig_ap_paths\n",
    "\n",
    "# Making directory for Ludwig data\n",
    "os.makedirs(\"../ludwig/data/xmodal\", exist_ok=True)\n",
    "\n",
    "for split in splits:\n",
    "    # Adding probabilistic labels to dataframes as a one-hot encoded list\n",
    "    labs = list(Y_ps[split]) if split == 'train' else list(indices_to_one_hot(Ys[split]))\n",
    "    data[split]['probs'] = labs\n",
    "    \n",
    "    # Converting probabilistic labels to string representation and stripping brackets\n",
    "    # to align with Ludwig convention\n",
    "    data[split]['probs'] = data[split]['probs'].astype(str).str.strip(\"[]\")\n",
    "    \n",
    "    # Eliminating scans with incorrect x-ray views and specifying correct location\n",
    "    data[split]['xray_paths'] = get_ludwig_ap_paths(data[split])\n",
    "    \n",
    "    # Saving to file\n",
    "    data[split].to_csv(f\"../ludwig/data/xmodal/xmodal_{split}.csv\")"
   ]
  },
  {
   "cell_type": "markdown",
   "metadata": {},
   "source": [
    "Next, we construct the dictionary we will use for Ludwig model definition and dump it to a `.yaml` file:"
   ]
  },
  {
   "cell_type": "code",
   "execution_count": 70,
   "metadata": {},
   "outputs": [],
   "source": [
    "model_config = {'input_features': [{'name': 'xray_paths',\n",
    "   'type': 'image',\n",
    "   'encoder': 'resnet',\n",
    "   'resnet_size': 50,\n",
    "   'preprocessing': {'in_memory': True,\n",
    "                     'resize_method': 'interpolate',\n",
    "                     'height':224,\n",
    "                     'width':224,\n",
    "                     'num_channels':3,\n",
    "                     'scaling':'pixel_standardization'}}],\n",
    " 'output_features': [{'name': 'probs',\n",
    "   'type': 'vector',\n",
    "   'softmax': True,\n",
    "   'num_fc_layers': 1,\n",
    "   'loss': {'type': 'softmax_cross_entropy',\n",
    "    'confidence_penalty': 0,\n",
    "    'robust_lambda': 0,\n",
    "    'class_weights': 1,\n",
    "    'class_similarities': None,\n",
    "    'class_similarities_temperature': 0,\n",
    "    'labels_smoothing': 0,\n",
    "    'negative_samples': 0,\n",
    "    'sampler': None,\n",
    "    'distortion': 1,\n",
    "    'unique': False}}],\n",
    " 'training': {'epochs': 5,\n",
    "  'batch_size': 32,\n",
    "  'learning_rate': 0.0001,\n",
    "  'validation_measure': 'loss',\n",
    "  'regularization_lambda': 0.0001}}\n",
    "\n"
   ]
  },
  {
   "cell_type": "code",
   "execution_count": 71,
   "metadata": {},
   "outputs": [],
   "source": [
    "import yaml\n",
    "os.makedirs('model', exist_ok=True)\n",
    "with open('model/xmodal_model_definition.yaml','w') as fl:\n",
    "    a = yaml.dump(model_config,fl)"
   ]
  },
  {
   "cell_type": "markdown",
   "metadata": {},
   "source": [
    "Now, as usual, we'll train the model in Ludwig using the command line, actuated via Python:"
   ]
  },
  {
   "cell_type": "code",
   "execution_count": 63,
   "metadata": {},
   "outputs": [
    {
     "name": "stdout",
     "output_type": "stream",
     "text": [
      "WARNING:tensorflow:\n",
      "The TensorFlow contrib module will not be included in TensorFlow 2.0.\n",
      "For more information, please see:\n",
      "  * https://github.com/tensorflow/community/blob/master/rfcs/20180907-contrib-sunset.md\n",
      "  * https://github.com/tensorflow/addons\n",
      "  * https://github.com/tensorflow/io (for I/O related ops)\n",
      "If you depend on functionality not listed there, please file an issue.\n",
      "\n",
      "███████████████████████\n",
      "█ █ █ █  ▜█ █ █ █ █   █\n",
      "█ █ █ █ █ █ █ █ █ █ ███\n",
      "█ █   █ █ █ █ █ █ █ ▌ █\n",
      "█ █████ █ █ █ █ █ █ █ █\n",
      "█     █  ▟█     █ █   █\n",
      "███████████████████████\n",
      "ludwig v0.2.1 - Experiment\n",
      "\n",
      "Experiment name: weak_supervision\n",
      "Model name: run\n",
      "Output path: results/xmodal_experiment_run/weak_supervision_run_5\n",
      "\n",
      "\n",
      "ludwig_version: '0.2.1'\n",
      "command: ('/home/jdunnmon/Research/repos/anaconda3/envs/snorkel/bin/ludwig experiment '\n",
      " '--data_train_csv ../ludwig/data/xmodal/xmodal_train.csv '\n",
      " '--data_validation_csv ../ludwig/data/xmodal/xmodal_dev.csv --data_test_csv '\n",
      " '../ludwig/data/xmodal/xmodal_test.csv --model_definition_file '\n",
      " 'model/xmodal_model_definition.yaml --output_directory '\n",
      " 'results/xmodal_experiment_run --experiment_name weak_supervision')\n",
      "commit_hash: '7032b224ff35'\n",
      "random_seed: 42\n",
      "input_data_train: '../ludwig/data/xmodal/xmodal_train.csv'\n",
      "input_data_validation: '../ludwig/data/xmodal/xmodal_dev.csv'\n",
      "input_data_test: '../ludwig/data/xmodal/xmodal_test.csv'\n",
      "model_definition: {   'combiner': {'type': 'concat'},\n",
      "    'input_features': [   {   'encoder': 'resnet',\n",
      "                              'name': 'xray_paths',\n",
      "                              'preprocessing': {   'height': 224,\n",
      "                                                   'in_memory': True,\n",
      "                                                   'num_channels': 3,\n",
      "                                                   'resize_method': 'interpolate',\n",
      "                                                   'scaling': 'pixel_standardization',\n",
      "                                                   'width': 224},\n",
      "                              'resnet_size': 50,\n",
      "                              'tied_weights': None,\n",
      "                              'type': 'image'}],\n",
      "    'output_features': [   {   'decoder': 'fc_stack',\n",
      "                               'dependencies': [],\n",
      "                               'loss': {   'class_similarities': None,\n",
      "                                           'class_similarities_temperature': 0,\n",
      "                                           'class_weights': 1,\n",
      "                                           'confidence_penalty': 0,\n",
      "                                           'distortion': 1,\n",
      "                                           'labels_smoothing': 0,\n",
      "                                           'negative_samples': 0,\n",
      "                                           'robust_lambda': 0,\n",
      "                                           'sampler': None,\n",
      "                                           'type': 'softmax_cross_entropy',\n",
      "                                           'unique': False,\n",
      "                                           'weight': 1},\n",
      "                               'name': 'probs',\n",
      "                               'num_fc_layers': 1,\n",
      "                               'reduce_dependencies': None,\n",
      "                               'reduce_input': None,\n",
      "                               'softmax': True,\n",
      "                               'type': 'vector'}],\n",
      "    'preprocessing': {   'audio': {   'audio_feature': {'type': 'raw'},\n",
      "                                      'audio_file_length_limit_in_s': 7.5,\n",
      "                                      'in_memory': True,\n",
      "                                      'missing_value_strategy': 'backfill',\n",
      "                                      'norm': None,\n",
      "                                      'padding_value': 0},\n",
      "                         'bag': {   'fill_value': '',\n",
      "                                    'lowercase': False,\n",
      "                                    'missing_value_strategy': 'fill_with_const',\n",
      "                                    'most_common': 10000,\n",
      "                                    'tokenizer': 'space'},\n",
      "                         'binary': {   'fill_value': 0,\n",
      "                                       'missing_value_strategy': 'fill_with_const'},\n",
      "                         'category': {   'fill_value': '<UNK>',\n",
      "                                         'lowercase': False,\n",
      "                                         'missing_value_strategy': 'fill_with_const',\n",
      "                                         'most_common': 10000},\n",
      "                         'date': {   'datetime_format': None,\n",
      "                                     'fill_value': '',\n",
      "                                     'missing_value_strategy': 'fill_with_const'},\n",
      "                         'force_split': False,\n",
      "                         'h3': {   'fill_value': 576495936675512319,\n",
      "                                   'missing_value_strategy': 'fill_with_const'},\n",
      "                         'image': {   'in_memory': True,\n",
      "                                      'missing_value_strategy': 'backfill',\n",
      "                                      'num_processes': 1,\n",
      "                                      'resize_method': 'interpolate',\n",
      "                                      'scaling': 'pixel_normalization'},\n",
      "                         'numerical': {   'fill_value': 0,\n",
      "                                          'missing_value_strategy': 'fill_with_const',\n",
      "                                          'normalization': None},\n",
      "                         'sequence': {   'fill_value': '',\n",
      "                                         'lowercase': False,\n",
      "                                         'missing_value_strategy': 'fill_with_const',\n",
      "                                         'most_common': 20000,\n",
      "                                         'padding': 'right',\n",
      "                                         'padding_symbol': '<PAD>',\n",
      "                                         'sequence_length_limit': 256,\n",
      "                                         'tokenizer': 'space',\n",
      "                                         'unknown_symbol': '<UNK>',\n",
      "                                         'vocab_file': None},\n",
      "                         'set': {   'fill_value': '',\n",
      "                                    'lowercase': False,\n",
      "                                    'missing_value_strategy': 'fill_with_const',\n",
      "                                    'most_common': 10000,\n",
      "                                    'tokenizer': 'space'},\n",
      "                         'split_probabilities': (0.7, 0.1, 0.2),\n",
      "                         'stratify': None,\n",
      "                         'text': {   'char_most_common': 70,\n",
      "                                     'char_sequence_length_limit': 1024,\n",
      "                                     'char_tokenizer': 'characters',\n",
      "                                     'char_vocab_file': None,\n",
      "                                     'fill_value': '',\n",
      "                                     'lowercase': True,\n",
      "                                     'missing_value_strategy': 'fill_with_const',\n",
      "                                     'padding': 'right',\n",
      "                                     'padding_symbol': '<PAD>',\n",
      "                                     'unknown_symbol': '<UNK>',\n",
      "                                     'word_most_common': 20000,\n",
      "                                     'word_sequence_length_limit': 256,\n",
      "                                     'word_tokenizer': 'space_punct',\n",
      "                                     'word_vocab_file': None},\n",
      "                         'timeseries': {   'fill_value': '',\n",
      "                                           'missing_value_strategy': 'fill_with_const',\n",
      "                                           'padding': 'right',\n",
      "                                           'padding_value': 0,\n",
      "                                           'timeseries_length_limit': 256,\n",
      "                                           'tokenizer': 'space'},\n",
      "                         'vector': {   'fill_value': '',\n",
      "                                       'missing_value_strategy': 'fill_with_const'}},\n",
      "    'training': {   'batch_size': 32,\n",
      "                    'bucketing_field': None,\n",
      "                    'decay': False,\n",
      "                    'decay_rate': 0.96,\n",
      "                    'decay_steps': 10000,\n",
      "                    'dropout_rate': 0.0,\n",
      "                    'early_stop': 5,\n",
      "                    'epochs': 5,\n",
      "                    'eval_batch_size': 0,\n",
      "                    'gradient_clipping': None,\n",
      "                    'increase_batch_size_on_plateau': 0,\n",
      "                    'increase_batch_size_on_plateau_max': 512,\n",
      "                    'increase_batch_size_on_plateau_patience': 5,\n",
      "                    'increase_batch_size_on_plateau_rate': 2,\n",
      "                    'learning_rate': 0.0001,\n",
      "                    'learning_rate_warmup_epochs': 1,\n",
      "                    'optimizer': {   'beta1': 0.9,\n",
      "                                     'beta2': 0.999,\n",
      "                                     'epsilon': 1e-08,\n",
      "                                     'type': 'adam'},\n",
      "                    'reduce_learning_rate_on_plateau': 0,\n",
      "                    'reduce_learning_rate_on_plateau_patience': 5,\n",
      "                    'reduce_learning_rate_on_plateau_rate': 0.5,\n",
      "                    'regularization_lambda': 0.0001,\n",
      "                    'regularizer': 'l2',\n",
      "                    'staircase': False,\n",
      "                    'validation_field': 'combined',\n",
      "                    'validation_measure': 'loss'}}\n",
      "\n",
      "\n",
      "Found hdf5 and json with the same filename of the csvs, using them instead.\n",
      "Using hdf5 and json\n",
      "Loading data from: ../ludwig/data/xmodal/xmodal_train.hdf5\n",
      "Loading metadata from: ../ludwig/data/xmodal/xmodal_train.json\n",
      "Loading data from: ../ludwig/data/xmodal/xmodal_dev.hdf5\n",
      "Loading data from: ../ludwig/data/xmodal/xmodal_test.hdf5\n",
      "Training set: 2630\n",
      "Validation set: 376\n",
      "Test set: 378\n",
      "WARNING:tensorflow:From /home/jdunnmon/Research/repos/anaconda3/envs/snorkel/lib/python3.6/site-packages/tensorflow/python/ops/image_ops_impl.py:1514: div (from tensorflow.python.ops.math_ops) is deprecated and will be removed in a future version.\n",
      "Instructions for updating:\n",
      "Deprecated in favor of operator or tf.math.divide.\n",
      "WARNING:tensorflow:From /home/jdunnmon/Research/repos/anaconda3/envs/snorkel/lib/python3.6/site-packages/ludwig/models/modules/convolutional_modules.py:658: conv2d (from tensorflow.python.layers.convolutional) is deprecated and will be removed in a future version.\n",
      "Instructions for updating:\n",
      "Use `tf.keras.layers.Conv2D` instead.\n",
      "WARNING:tensorflow:From /home/jdunnmon/Research/repos/anaconda3/envs/snorkel/lib/python3.6/site-packages/ludwig/models/modules/convolutional_modules.py:623: batch_normalization (from tensorflow.python.layers.normalization) is deprecated and will be removed in a future version.\n",
      "Instructions for updating:\n",
      "Use keras.layers.BatchNormalization instead.  In particular, `tf.control_dependencies(tf.GraphKeys.UPDATE_OPS)` should not be used (consult the `tf.keras.layers.batch_normalization` documentation).\n",
      "WARNING:tensorflow:From /home/jdunnmon/Research/repos/anaconda3/envs/snorkel/lib/python3.6/site-packages/tensorflow/python/ops/init_ops.py:1251: calling VarianceScaling.__init__ (from tensorflow.python.ops.init_ops) with dtype is deprecated and will be removed in a future version.\n",
      "Instructions for updating:\n",
      "Call initializer instance with the dtype argument instead of passing it to the constructor\n",
      "\n",
      "╒══════════╕\n",
      "│ TRAINING │\n",
      "╘══════════╛\n",
      "\n",
      "WARNING:tensorflow:From /home/jdunnmon/Research/repos/anaconda3/envs/snorkel/lib/python3.6/site-packages/ludwig/utils/tf_utils.py:78: The name tf.GPUOptions is deprecated. Please use tf.compat.v1.GPUOptions instead.\n",
      "\n",
      "2019-12-19 15:56:05.733390: I tensorflow/core/platform/cpu_feature_guard.cc:142] Your CPU supports instructions that this TensorFlow binary was not compiled to use: AVX2 AVX512F FMA\n",
      "2019-12-19 15:56:05.738078: I tensorflow/stream_executor/platform/default/dso_loader.cc:42] Successfully opened dynamic library libcuda.so.1\n",
      "2019-12-19 15:56:05.877547: I tensorflow/compiler/xla/service/service.cc:168] XLA service 0x56301bddbb40 executing computations on platform CUDA. Devices:\n",
      "2019-12-19 15:56:05.877597: I tensorflow/compiler/xla/service/service.cc:175]   StreamExecutor device (0): TITAN RTX, Compute Capability 7.5\n",
      "2019-12-19 15:56:05.902067: I tensorflow/core/platform/profile_utils/cpu_utils.cc:94] CPU Frequency: 3100000000 Hz\n",
      "2019-12-19 15:56:05.904706: I tensorflow/compiler/xla/service/service.cc:168] XLA service 0x56301af50e10 executing computations on platform Host. Devices:\n",
      "2019-12-19 15:56:05.904743: I tensorflow/compiler/xla/service/service.cc:175]   StreamExecutor device (0): <undefined>, <undefined>\n",
      "2019-12-19 15:56:05.907316: I tensorflow/core/common_runtime/gpu/gpu_device.cc:1640] Found device 0 with properties: \n",
      "name: TITAN RTX major: 7 minor: 5 memoryClockRate(GHz): 1.77\n",
      "pciBusID: 0000:19:00.0\n",
      "2019-12-19 15:56:05.907704: I tensorflow/stream_executor/platform/default/dso_loader.cc:42] Successfully opened dynamic library libcudart.so.10.0\n",
      "2019-12-19 15:56:05.910084: I tensorflow/stream_executor/platform/default/dso_loader.cc:42] Successfully opened dynamic library libcublas.so.10.0\n",
      "2019-12-19 15:56:05.912091: I tensorflow/stream_executor/platform/default/dso_loader.cc:42] Successfully opened dynamic library libcufft.so.10.0\n",
      "2019-12-19 15:56:05.912634: I tensorflow/stream_executor/platform/default/dso_loader.cc:42] Successfully opened dynamic library libcurand.so.10.0\n",
      "2019-12-19 15:56:05.915433: I tensorflow/stream_executor/platform/default/dso_loader.cc:42] Successfully opened dynamic library libcusolver.so.10.0\n",
      "2019-12-19 15:56:05.917640: I tensorflow/stream_executor/platform/default/dso_loader.cc:42] Successfully opened dynamic library libcusparse.so.10.0\n",
      "2019-12-19 15:56:05.922824: I tensorflow/stream_executor/platform/default/dso_loader.cc:42] Successfully opened dynamic library libcudnn.so.7\n",
      "2019-12-19 15:56:05.926148: I tensorflow/core/common_runtime/gpu/gpu_device.cc:1763] Adding visible gpu devices: 0\n",
      "2019-12-19 15:56:05.926213: I tensorflow/stream_executor/platform/default/dso_loader.cc:42] Successfully opened dynamic library libcudart.so.10.0\n",
      "2019-12-19 15:56:05.928877: I tensorflow/core/common_runtime/gpu/gpu_device.cc:1181] Device interconnect StreamExecutor with strength 1 edge matrix:\n",
      "2019-12-19 15:56:05.928894: I tensorflow/core/common_runtime/gpu/gpu_device.cc:1187]      0 \n",
      "2019-12-19 15:56:05.928902: I tensorflow/core/common_runtime/gpu/gpu_device.cc:1200] 0:   N \n",
      "2019-12-19 15:56:05.932240: I tensorflow/core/common_runtime/gpu/gpu_device.cc:1326] Created TensorFlow device (/job:localhost/replica:0/task:0/device:GPU:0 with 22661 MB memory) -> physical GPU (device: 0, name: TITAN RTX, pci bus id: 0000:19:00.0, compute capability: 7.5)\n",
      "2019-12-19 15:56:06.858277: W tensorflow/compiler/jit/mark_for_compilation_pass.cc:1412] (One-time warning): Not using XLA:CPU for cluster because envvar TF_XLA_FLAGS=--tf_xla_cpu_global_jit was not set.  If you want XLA:CPU, either set that envvar, or use experimental_jit_scope to enable XLA:CPU.  To confirm that XLA is active, pass --vmodule=xla_compilation_cache=1 (as a proper command-line flag, not via TF_XLA_FLAGS) or set the envvar XLA_FLAGS=--xla_hlo_profile.\n",
      "\n",
      "Epoch 1\n",
      "Training:   0%|                                          | 0/83 [00:00<?, ?it/s]2019-12-19 15:56:11.153464: I tensorflow/stream_executor/platform/default/dso_loader.cc:42] Successfully opened dynamic library libcublas.so.10.0\n",
      "2019-12-19 15:56:11.376514: I tensorflow/stream_executor/platform/default/dso_loader.cc:42] Successfully opened dynamic library libcudnn.so.7\n",
      "Training: 100%|█████████████████████████████████| 83/83 [00:41<00:00,  1.99it/s]\n",
      "Evaluation train: 100%|█████████████████████████| 83/83 [00:08<00:00,  9.65it/s]\n",
      "Evaluation vali : 100%|█████████████████████████| 12/12 [00:01<00:00,  7.62it/s]\n",
      "Evaluation test : 100%|█████████████████████████| 12/12 [00:01<00:00,  7.17it/s]\n",
      "Took 53.6645s\n",
      "╒═════════╤════════╤══════════════════════╤═══════════════════════╤════════╤═════════╕\n",
      "│ probs   │   loss │   mean_squared_error │   mean_absolute_error │     r2 │   error │\n",
      "╞═════════╪════════╪══════════════════════╪═══════════════════════╪════════╪═════════╡\n",
      "│ train   │ 0.6518 │               0.3069 │                0.7366 │ 0.0035 │ -0.0000 │\n",
      "├─────────┼────────┼──────────────────────┼───────────────────────┼────────┼─────────┤\n",
      "│ vali    │ 0.6515 │               0.4586 │                0.9347 │ 0.0026 │  0.0000 │\n",
      "├─────────┼────────┼──────────────────────┼───────────────────────┼────────┼─────────┤\n",
      "│ test    │ 0.6732 │               0.4802 │                0.9563 │ 0.0013 │  0.0000 │\n",
      "╘═════════╧════════╧══════════════════════╧═══════════════════════╧════════╧═════════╛\n",
      "Validation loss on combined improved, model saved\n",
      "\n",
      "\n",
      "Epoch 2\n",
      "Training: 100%|█████████████████████████████████| 83/83 [00:35<00:00,  2.31it/s]\n",
      "Evaluation train: 100%|█████████████████████████| 83/83 [00:08<00:00,  9.79it/s]\n",
      "Evaluation vali : 100%|█████████████████████████| 12/12 [00:01<00:00, 10.18it/s]\n",
      "Evaluation test : 100%|█████████████████████████| 12/12 [00:01<00:00, 10.03it/s]\n",
      "Took 46.7540s\n",
      "╒═════════╤════════╤══════════════════════╤═══════════════════════╤════════╤═════════╕\n",
      "│ probs   │   loss │   mean_squared_error │   mean_absolute_error │     r2 │   error │\n",
      "╞═════════╪════════╪══════════════════════╪═══════════════════════╪════════╪═════════╡\n",
      "│ train   │ 0.6415 │               0.2974 │                0.7188 │ 0.0043 │ -0.0000 │\n",
      "├─────────┼────────┼──────────────────────┼───────────────────────┼────────┼─────────┤\n",
      "│ vali    │ 0.6446 │               0.4522 │                0.9164 │ 0.0030 │ -0.0000 │\n",
      "├─────────┼────────┼──────────────────────┼───────────────────────┼────────┼─────────┤\n",
      "│ test    │ 0.6672 │               0.4742 │                0.9393 │ 0.0017 │ -0.0000 │\n",
      "╘═════════╧════════╧══════════════════════╧═══════════════════════╧════════╧═════════╛\n",
      "Validation loss on combined improved, model saved\n",
      "\n",
      "\n",
      "Epoch 3\n",
      "Training: 100%|█████████████████████████████████| 83/83 [00:36<00:00,  2.30it/s]\n",
      "Evaluation train: 100%|█████████████████████████| 83/83 [00:08<00:00, 10.19it/s]\n",
      "Evaluation vali : 100%|█████████████████████████| 12/12 [00:01<00:00, 10.07it/s]\n",
      "Evaluation test : 100%|█████████████████████████| 12/12 [00:01<00:00,  9.93it/s]\n",
      "Took 46.7015s\n",
      "╒═════════╤════════╤══════════════════════╤═══════════════════════╤════════╤═════════╕\n",
      "│ probs   │   loss │   mean_squared_error │   mean_absolute_error │     r2 │   error │\n",
      "╞═════════╪════════╪══════════════════════╪═══════════════════════╪════════╪═════════╡\n",
      "│ train   │ 0.6366 │               0.2930 │                0.7108 │ 0.0047 │ -0.0000 │\n",
      "├─────────┼────────┼──────────────────────┼───────────────────────┼────────┼─────────┤\n",
      "│ vali    │ 0.6445 │               0.4517 │                0.9127 │ 0.0030 │  0.0000 │\n",
      "├─────────┼────────┼──────────────────────┼───────────────────────┼────────┼─────────┤\n",
      "│ test    │ 0.6715 │               0.4778 │                0.9400 │ 0.0014 │ -0.0000 │\n",
      "╘═════════╧════════╧══════════════════════╧═══════════════════════╧════════╧═════════╛\n",
      "Validation loss on combined improved, model saved\n",
      "\n",
      "\n",
      "Epoch 4\n",
      "Training: 100%|█████████████████████████████████| 83/83 [00:35<00:00,  2.32it/s]\n",
      "Evaluation train: 100%|█████████████████████████| 83/83 [00:08<00:00,  9.85it/s]\n",
      "Evaluation vali : 100%|█████████████████████████| 12/12 [00:01<00:00,  9.87it/s]\n",
      "Evaluation test : 100%|█████████████████████████| 12/12 [00:01<00:00,  9.86it/s]\n",
      "Took 46.6020s\n",
      "╒═════════╤════════╤══════════════════════╤═══════════════════════╤════════╤═════════╕\n",
      "│ probs   │   loss │   mean_squared_error │   mean_absolute_error │     r2 │   error │\n",
      "╞═════════╪════════╪══════════════════════╪═══════════════════════╪════════╪═════════╡\n",
      "│ train   │ 0.6411 │               0.2976 │                0.7128 │ 0.0044 │ -0.0000 │\n",
      "├─────────┼────────┼──────────────────────┼───────────────────────┼────────┼─────────┤\n",
      "│ vali    │ 0.6534 │               0.4610 │                0.9326 │ 0.0024 │ -0.0000 │\n",
      "├─────────┼────────┼──────────────────────┼───────────────────────┼────────┼─────────┤\n",
      "│ test    │ 0.6847 │               0.4911 │                0.9642 │ 0.0005 │  0.0000 │\n",
      "╘═════════╧════════╧══════════════════════╧═══════════════════════╧════════╧═════════╛\n",
      "Last improvement of loss on combined happened 1 epoch ago\n",
      "\n",
      "\n",
      "Epoch 5\n",
      "Training: 100%|█████████████████████████████████| 83/83 [00:35<00:00,  2.33it/s]\n",
      "Evaluation train: 100%|█████████████████████████| 83/83 [00:08<00:00,  9.76it/s]\n",
      "Evaluation vali : 100%|█████████████████████████| 12/12 [00:01<00:00,  9.77it/s]\n",
      "Evaluation test : 100%|█████████████████████████| 12/12 [00:01<00:00,  9.85it/s]\n",
      "Took 46.5984s\n",
      "╒═════════╤════════╤══════════════════════╤═══════════════════════╤═════════╤═════════╕\n",
      "│ probs   │   loss │   mean_squared_error │   mean_absolute_error │      r2 │   error │\n",
      "╞═════════╪════════╪══════════════════════╪═══════════════════════╪═════════╪═════════╡\n",
      "│ train   │ 0.7804 │               0.4225 │                0.8016 │ -0.0070 │ -0.0000 │\n",
      "├─────────┼────────┼──────────────────────┼───────────────────────┼─────────┼─────────┤\n",
      "│ vali    │ 0.7896 │               0.5844 │                1.0226 │ -0.0053 │  0.0000 │\n",
      "├─────────┼────────┼──────────────────────┼───────────────────────┼─────────┼─────────┤\n",
      "│ test    │ 0.8502 │               0.6335 │                1.0577 │ -0.0085 │ -0.0000 │\n",
      "╘═════════╧════════╧══════════════════════╧═══════════════════════╧═════════╧═════════╛\n",
      "Last improvement of loss on combined happened 2 epochs ago\n",
      "\n",
      "Best validation model epoch: 3\n",
      "Best validation model loss on validation set combined: 1.0159888413358242\n",
      "Best validation model loss on test set combined: 1.0430265931540696\n",
      "\n",
      "Finished: weak_supervision_run\n",
      "Saved to: results/xmodal_experiment_run/weak_supervision_run_5\n",
      "\n",
      "╒═════════╕\n",
      "│ PREDICT │\n",
      "╘═════════╛\n",
      "\n",
      "Evaluation: 100%|███████████████████████████████| 12/12 [00:01<00:00,  6.96it/s]\n",
      "\n",
      "===== probs =====\n",
      "error: -3.1536849087508265e-10\n",
      "loss: 0.8501634547319362\n",
      "mean_absolute_error: 1.057659729447945\n",
      "mean_squared_error: 0.633496950543116\n",
      "r2: -0.008502401372112294\n",
      "\n",
      "Finished: weak_supervision_run\n",
      "Saved to: results/xmodal_experiment_run/weak_supervision_run_5\n"
     ]
    }
   ],
   "source": [
    "! ludwig experiment \\\n",
    "  --data_train_csv ../ludwig/data/xmodal/xmodal_train.csv \\\n",
    "  --data_validation_csv ../ludwig/data/xmodal/xmodal_dev.csv  \\\n",
    "  --data_test_csv ../ludwig/data/xmodal/xmodal_test.csv  \\\n",
    "  --model_definition_file model/xmodal_model_definition.yaml \\\n",
    "  --output_directory results/xmodal_experiment_run \\\n",
    "  --experiment_name weak_supervision"
   ]
  },
  {
   "cell_type": "markdown",
   "metadata": {},
   "source": [
    "Because we have ground-truth labels for the entire dataset in this case (the OpenI dataset comes with these labels, which require physicians to label thousands of images!), we can compare how well our weakly supervised target modality model does with the performance we achieve from a fully supervised model.  This is a similar analysis to that performed in our 2019 submission.\n",
    "\n",
    "Executing this requires a simple change to the training dataset such that we have ground truth labels."
   ]
  },
  {
   "cell_type": "code",
   "execution_count": 72,
   "metadata": {},
   "outputs": [],
   "source": [
    "# Adding probabilistic labels to dataframes as a one-hot encoded list\n",
    "gt_train_data = data['train']\n",
    "labs = list(indices_to_one_hot(Ys['train']))\n",
    "gt_train_data['probs'] = labs\n",
    "\n",
    "# Converting probabilistic labels to string representation and stripping brackets\n",
    "# to align with Ludwig convention\n",
    "gt_train_data['probs'] = gt_train_data['probs'].astype(str).str.strip(\"[]\")\n",
    "\n",
    "# Saving to file\n",
    "gt_train_data.to_csv(f\"../ludwig/data/xmodal/xmodal_gt_train.csv\")"
   ]
  },
  {
   "cell_type": "markdown",
   "metadata": {},
   "source": [
    "And now, we can train our model as before using the new training set:"
   ]
  },
  {
   "cell_type": "code",
   "execution_count": 75,
   "metadata": {},
   "outputs": [
    {
     "name": "stdout",
     "output_type": "stream",
     "text": [
      "WARNING:tensorflow:\n",
      "The TensorFlow contrib module will not be included in TensorFlow 2.0.\n",
      "For more information, please see:\n",
      "  * https://github.com/tensorflow/community/blob/master/rfcs/20180907-contrib-sunset.md\n",
      "  * https://github.com/tensorflow/addons\n",
      "  * https://github.com/tensorflow/io (for I/O related ops)\n",
      "If you depend on functionality not listed there, please file an issue.\n",
      "\n",
      "███████████████████████\n",
      "█ █ █ █  ▜█ █ █ █ █   █\n",
      "█ █ █ █ █ █ █ █ █ █ ███\n",
      "█ █   █ █ █ █ █ █ █ ▌ █\n",
      "█ █████ █ █ █ █ █ █ █ █\n",
      "█     █  ▟█     █ █   █\n",
      "███████████████████████\n",
      "ludwig v0.2.1 - Experiment\n",
      "\n",
      "Experiment name: full_supervision\n",
      "Model name: run\n",
      "Output path: results/xmodal_experiment_run/full_supervision_run_1\n",
      "\n",
      "\n",
      "ludwig_version: '0.2.1'\n",
      "command: ('/home/jdunnmon/Research/repos/anaconda3/envs/snorkel/bin/ludwig experiment '\n",
      " '--data_train_csv ../ludwig/data/xmodal/xmodal_gt_train.csv '\n",
      " '--data_validation_csv ../ludwig/data/xmodal/xmodal_dev.csv --data_test_csv '\n",
      " '../ludwig/data/xmodal/xmodal_test.csv --model_definition_file '\n",
      " 'model/xmodal_model_definition.yaml --output_directory '\n",
      " 'results/xmodal_experiment_run --experiment_name full_supervision')\n",
      "commit_hash: '7032b224ff35'\n",
      "random_seed: 42\n",
      "input_data_train: '../ludwig/data/xmodal/xmodal_gt_train.csv'\n",
      "input_data_validation: '../ludwig/data/xmodal/xmodal_dev.csv'\n",
      "input_data_test: '../ludwig/data/xmodal/xmodal_test.csv'\n",
      "model_definition: {   'combiner': {'type': 'concat'},\n",
      "    'input_features': [   {   'encoder': 'resnet',\n",
      "                              'name': 'xray_paths',\n",
      "                              'preprocessing': {   'height': 224,\n",
      "                                                   'in_memory': True,\n",
      "                                                   'num_channels': 3,\n",
      "                                                   'resize_method': 'interpolate',\n",
      "                                                   'scaling': 'pixel_standardization',\n",
      "                                                   'width': 224},\n",
      "                              'resnet_size': 50,\n",
      "                              'tied_weights': None,\n",
      "                              'type': 'image'}],\n",
      "    'output_features': [   {   'decoder': 'fc_stack',\n",
      "                               'dependencies': [],\n",
      "                               'loss': {   'class_similarities': None,\n",
      "                                           'class_similarities_temperature': 0,\n",
      "                                           'class_weights': 1,\n",
      "                                           'confidence_penalty': 0,\n",
      "                                           'distortion': 1,\n",
      "                                           'labels_smoothing': 0,\n",
      "                                           'negative_samples': 0,\n",
      "                                           'robust_lambda': 0,\n",
      "                                           'sampler': None,\n",
      "                                           'type': 'softmax_cross_entropy',\n",
      "                                           'unique': False,\n",
      "                                           'weight': 1},\n",
      "                               'name': 'probs',\n",
      "                               'num_fc_layers': 1,\n",
      "                               'reduce_dependencies': None,\n",
      "                               'reduce_input': None,\n",
      "                               'softmax': True,\n",
      "                               'type': 'vector'}],\n",
      "    'preprocessing': {   'audio': {   'audio_feature': {'type': 'raw'},\n",
      "                                      'audio_file_length_limit_in_s': 7.5,\n",
      "                                      'in_memory': True,\n",
      "                                      'missing_value_strategy': 'backfill',\n",
      "                                      'norm': None,\n",
      "                                      'padding_value': 0},\n",
      "                         'bag': {   'fill_value': '',\n",
      "                                    'lowercase': False,\n",
      "                                    'missing_value_strategy': 'fill_with_const',\n",
      "                                    'most_common': 10000,\n",
      "                                    'tokenizer': 'space'},\n",
      "                         'binary': {   'fill_value': 0,\n",
      "                                       'missing_value_strategy': 'fill_with_const'},\n",
      "                         'category': {   'fill_value': '<UNK>',\n",
      "                                         'lowercase': False,\n",
      "                                         'missing_value_strategy': 'fill_with_const',\n",
      "                                         'most_common': 10000},\n",
      "                         'date': {   'datetime_format': None,\n",
      "                                     'fill_value': '',\n",
      "                                     'missing_value_strategy': 'fill_with_const'},\n",
      "                         'force_split': False,\n",
      "                         'h3': {   'fill_value': 576495936675512319,\n",
      "                                   'missing_value_strategy': 'fill_with_const'},\n",
      "                         'image': {   'in_memory': True,\n",
      "                                      'missing_value_strategy': 'backfill',\n",
      "                                      'num_processes': 1,\n",
      "                                      'resize_method': 'interpolate',\n",
      "                                      'scaling': 'pixel_normalization'},\n",
      "                         'numerical': {   'fill_value': 0,\n",
      "                                          'missing_value_strategy': 'fill_with_const',\n",
      "                                          'normalization': None},\n",
      "                         'sequence': {   'fill_value': '',\n",
      "                                         'lowercase': False,\n",
      "                                         'missing_value_strategy': 'fill_with_const',\n",
      "                                         'most_common': 20000,\n",
      "                                         'padding': 'right',\n",
      "                                         'padding_symbol': '<PAD>',\n",
      "                                         'sequence_length_limit': 256,\n",
      "                                         'tokenizer': 'space',\n",
      "                                         'unknown_symbol': '<UNK>',\n",
      "                                         'vocab_file': None},\n",
      "                         'set': {   'fill_value': '',\n",
      "                                    'lowercase': False,\n",
      "                                    'missing_value_strategy': 'fill_with_const',\n",
      "                                    'most_common': 10000,\n",
      "                                    'tokenizer': 'space'},\n",
      "                         'split_probabilities': (0.7, 0.1, 0.2),\n",
      "                         'stratify': None,\n",
      "                         'text': {   'char_most_common': 70,\n",
      "                                     'char_sequence_length_limit': 1024,\n",
      "                                     'char_tokenizer': 'characters',\n",
      "                                     'char_vocab_file': None,\n",
      "                                     'fill_value': '',\n",
      "                                     'lowercase': True,\n",
      "                                     'missing_value_strategy': 'fill_with_const',\n",
      "                                     'padding': 'right',\n",
      "                                     'padding_symbol': '<PAD>',\n",
      "                                     'unknown_symbol': '<UNK>',\n",
      "                                     'word_most_common': 20000,\n",
      "                                     'word_sequence_length_limit': 256,\n",
      "                                     'word_tokenizer': 'space_punct',\n",
      "                                     'word_vocab_file': None},\n",
      "                         'timeseries': {   'fill_value': '',\n",
      "                                           'missing_value_strategy': 'fill_with_const',\n",
      "                                           'padding': 'right',\n",
      "                                           'padding_value': 0,\n",
      "                                           'timeseries_length_limit': 256,\n",
      "                                           'tokenizer': 'space'},\n",
      "                         'vector': {   'fill_value': '',\n",
      "                                       'missing_value_strategy': 'fill_with_const'}},\n",
      "    'training': {   'batch_size': 32,\n",
      "                    'bucketing_field': None,\n",
      "                    'decay': False,\n",
      "                    'decay_rate': 0.96,\n",
      "                    'decay_steps': 10000,\n",
      "                    'dropout_rate': 0.0,\n",
      "                    'early_stop': 5,\n",
      "                    'epochs': 5,\n",
      "                    'eval_batch_size': 0,\n",
      "                    'gradient_clipping': None,\n",
      "                    'increase_batch_size_on_plateau': 0,\n",
      "                    'increase_batch_size_on_plateau_max': 512,\n",
      "                    'increase_batch_size_on_plateau_patience': 5,\n",
      "                    'increase_batch_size_on_plateau_rate': 2,\n",
      "                    'learning_rate': 0.0001,\n",
      "                    'learning_rate_warmup_epochs': 1,\n",
      "                    'optimizer': {   'beta1': 0.9,\n",
      "                                     'beta2': 0.999,\n",
      "                                     'epsilon': 1e-08,\n",
      "                                     'type': 'adam'},\n",
      "                    'reduce_learning_rate_on_plateau': 0,\n",
      "                    'reduce_learning_rate_on_plateau_patience': 5,\n",
      "                    'reduce_learning_rate_on_plateau_rate': 0.5,\n",
      "                    'regularization_lambda': 0.0001,\n",
      "                    'regularizer': 'l2',\n",
      "                    'staircase': False,\n",
      "                    'validation_field': 'combined',\n",
      "                    'validation_measure': 'loss'}}\n",
      "\n",
      "\n",
      "Found hdf5 and json with the same filename of the csvs, using them instead.\n",
      "Using hdf5 and json\n",
      "Loading data from: ../ludwig/data/xmodal/xmodal_gt_train.hdf5\n",
      "Loading metadata from: ../ludwig/data/xmodal/xmodal_gt_train.json\n",
      "Loading data from: ../ludwig/data/xmodal/xmodal_dev.hdf5\n",
      "Loading data from: ../ludwig/data/xmodal/xmodal_test.hdf5\n",
      "Training set: 2630\n",
      "Validation set: 376\n",
      "Test set: 378\n",
      "WARNING:tensorflow:From /home/jdunnmon/Research/repos/anaconda3/envs/snorkel/lib/python3.6/site-packages/tensorflow/python/ops/image_ops_impl.py:1514: div (from tensorflow.python.ops.math_ops) is deprecated and will be removed in a future version.\n",
      "Instructions for updating:\n",
      "Deprecated in favor of operator or tf.math.divide.\n",
      "WARNING:tensorflow:From /home/jdunnmon/Research/repos/anaconda3/envs/snorkel/lib/python3.6/site-packages/ludwig/models/modules/convolutional_modules.py:658: conv2d (from tensorflow.python.layers.convolutional) is deprecated and will be removed in a future version.\n",
      "Instructions for updating:\n",
      "Use `tf.keras.layers.Conv2D` instead.\n",
      "WARNING:tensorflow:From /home/jdunnmon/Research/repos/anaconda3/envs/snorkel/lib/python3.6/site-packages/ludwig/models/modules/convolutional_modules.py:623: batch_normalization (from tensorflow.python.layers.normalization) is deprecated and will be removed in a future version.\n",
      "Instructions for updating:\n",
      "Use keras.layers.BatchNormalization instead.  In particular, `tf.control_dependencies(tf.GraphKeys.UPDATE_OPS)` should not be used (consult the `tf.keras.layers.batch_normalization` documentation).\n",
      "WARNING:tensorflow:From /home/jdunnmon/Research/repos/anaconda3/envs/snorkel/lib/python3.6/site-packages/tensorflow/python/ops/init_ops.py:1251: calling VarianceScaling.__init__ (from tensorflow.python.ops.init_ops) with dtype is deprecated and will be removed in a future version.\n",
      "Instructions for updating:\n",
      "Call initializer instance with the dtype argument instead of passing it to the constructor\n",
      "\n",
      "╒══════════╕\n",
      "│ TRAINING │\n",
      "╘══════════╛\n",
      "\n",
      "WARNING:tensorflow:From /home/jdunnmon/Research/repos/anaconda3/envs/snorkel/lib/python3.6/site-packages/ludwig/utils/tf_utils.py:78: The name tf.GPUOptions is deprecated. Please use tf.compat.v1.GPUOptions instead.\n",
      "\n",
      "2019-12-19 16:07:12.836846: I tensorflow/core/platform/cpu_feature_guard.cc:142] Your CPU supports instructions that this TensorFlow binary was not compiled to use: AVX2 AVX512F FMA\n",
      "2019-12-19 16:07:12.841550: I tensorflow/stream_executor/platform/default/dso_loader.cc:42] Successfully opened dynamic library libcuda.so.1\n",
      "2019-12-19 16:07:12.965626: I tensorflow/compiler/xla/service/service.cc:168] XLA service 0x5603b8c319e0 executing computations on platform CUDA. Devices:\n",
      "2019-12-19 16:07:12.965678: I tensorflow/compiler/xla/service/service.cc:175]   StreamExecutor device (0): TITAN RTX, Compute Capability 7.5\n",
      "2019-12-19 16:07:12.990094: I tensorflow/core/platform/profile_utils/cpu_utils.cc:94] CPU Frequency: 3100000000 Hz\n",
      "2019-12-19 16:07:12.992621: I tensorflow/compiler/xla/service/service.cc:168] XLA service 0x5603b8c2c7e0 executing computations on platform Host. Devices:\n",
      "2019-12-19 16:07:12.992673: I tensorflow/compiler/xla/service/service.cc:175]   StreamExecutor device (0): <undefined>, <undefined>\n",
      "2019-12-19 16:07:12.995269: I tensorflow/core/common_runtime/gpu/gpu_device.cc:1640] Found device 0 with properties: \n",
      "name: TITAN RTX major: 7 minor: 5 memoryClockRate(GHz): 1.77\n",
      "pciBusID: 0000:19:00.0\n",
      "2019-12-19 16:07:12.995664: I tensorflow/stream_executor/platform/default/dso_loader.cc:42] Successfully opened dynamic library libcudart.so.10.0\n",
      "2019-12-19 16:07:12.998035: I tensorflow/stream_executor/platform/default/dso_loader.cc:42] Successfully opened dynamic library libcublas.so.10.0\n",
      "2019-12-19 16:07:13.000051: I tensorflow/stream_executor/platform/default/dso_loader.cc:42] Successfully opened dynamic library libcufft.so.10.0\n",
      "2019-12-19 16:07:13.000586: I tensorflow/stream_executor/platform/default/dso_loader.cc:42] Successfully opened dynamic library libcurand.so.10.0\n",
      "2019-12-19 16:07:13.003124: I tensorflow/stream_executor/platform/default/dso_loader.cc:42] Successfully opened dynamic library libcusolver.so.10.0\n",
      "2019-12-19 16:07:13.004997: I tensorflow/stream_executor/platform/default/dso_loader.cc:42] Successfully opened dynamic library libcusparse.so.10.0\n",
      "2019-12-19 16:07:13.010933: I tensorflow/stream_executor/platform/default/dso_loader.cc:42] Successfully opened dynamic library libcudnn.so.7\n",
      "2019-12-19 16:07:13.014135: I tensorflow/core/common_runtime/gpu/gpu_device.cc:1763] Adding visible gpu devices: 0\n",
      "2019-12-19 16:07:13.014197: I tensorflow/stream_executor/platform/default/dso_loader.cc:42] Successfully opened dynamic library libcudart.so.10.0\n",
      "2019-12-19 16:07:13.016652: I tensorflow/core/common_runtime/gpu/gpu_device.cc:1181] Device interconnect StreamExecutor with strength 1 edge matrix:\n",
      "2019-12-19 16:07:13.016668: I tensorflow/core/common_runtime/gpu/gpu_device.cc:1187]      0 \n",
      "2019-12-19 16:07:13.016676: I tensorflow/core/common_runtime/gpu/gpu_device.cc:1200] 0:   N \n",
      "2019-12-19 16:07:13.020568: I tensorflow/core/common_runtime/gpu/gpu_device.cc:1326] Created TensorFlow device (/job:localhost/replica:0/task:0/device:GPU:0 with 22661 MB memory) -> physical GPU (device: 0, name: TITAN RTX, pci bus id: 0000:19:00.0, compute capability: 7.5)\n",
      "2019-12-19 16:07:13.985909: W tensorflow/compiler/jit/mark_for_compilation_pass.cc:1412] (One-time warning): Not using XLA:CPU for cluster because envvar TF_XLA_FLAGS=--tf_xla_cpu_global_jit was not set.  If you want XLA:CPU, either set that envvar, or use experimental_jit_scope to enable XLA:CPU.  To confirm that XLA is active, pass --vmodule=xla_compilation_cache=1 (as a proper command-line flag, not via TF_XLA_FLAGS) or set the envvar XLA_FLAGS=--xla_hlo_profile.\n",
      "\n",
      "Epoch 1\n",
      "Training:   0%|                                          | 0/83 [00:00<?, ?it/s]2019-12-19 16:07:18.268230: I tensorflow/stream_executor/platform/default/dso_loader.cc:42] Successfully opened dynamic library libcublas.so.10.0\n",
      "2019-12-19 16:07:18.487366: I tensorflow/stream_executor/platform/default/dso_loader.cc:42] Successfully opened dynamic library libcudnn.so.7\n",
      "Training: 100%|█████████████████████████████████| 83/83 [00:42<00:00,  1.98it/s]\n",
      "Evaluation train: 100%|█████████████████████████| 83/83 [00:08<00:00,  9.25it/s]\n",
      "Evaluation vali : 100%|█████████████████████████| 12/12 [00:01<00:00,  7.48it/s]\n",
      "Evaluation test : 100%|█████████████████████████| 12/12 [00:01<00:00,  7.02it/s]\n",
      "Took 54.4390s\n",
      "╒═════════╤════════╤══════════════════════╤═══════════════════════╤═════════╤═════════╕\n",
      "│ probs   │   loss │   mean_squared_error │   mean_absolute_error │      r2 │   error │\n",
      "╞═════════╪════════╪══════════════════════╪═══════════════════════╪═════════╪═════════╡\n",
      "│ train   │ 0.6987 │               0.5056 │                0.9842 │ -0.0004 │  0.0000 │\n",
      "├─────────┼────────┼──────────────────────┼───────────────────────┼─────────┼─────────┤\n",
      "│ vali    │ 0.7045 │               0.5106 │                0.9911 │ -0.0007 │  0.0000 │\n",
      "├─────────┼────────┼──────────────────────┼───────────────────────┼─────────┼─────────┤\n",
      "│ test    │ 0.7252 │               0.5302 │                1.0096 │ -0.0020 │  0.0000 │\n",
      "╘═════════╧════════╧══════════════════════╧═══════════════════════╧═════════╧═════════╛\n",
      "Validation loss on combined improved, model saved\n",
      "\n",
      "\n",
      "Epoch 2\n",
      "Training: 100%|█████████████████████████████████| 83/83 [00:35<00:00,  2.34it/s]\n",
      "Evaluation train: 100%|█████████████████████████| 83/83 [00:08<00:00, 10.24it/s]\n",
      "Evaluation vali : 100%|█████████████████████████| 12/12 [00:01<00:00, 10.39it/s]\n",
      "Evaluation test : 100%|█████████████████████████| 12/12 [00:01<00:00, 10.24it/s]\n",
      "Took 45.9769s\n",
      "╒═════════╤════════╤══════════════════════╤═══════════════════════╤═════════╤═════════╕\n",
      "│ probs   │   loss │   mean_squared_error │   mean_absolute_error │      r2 │   error │\n",
      "╞═════════╪════════╪══════════════════════╪═══════════════════════╪═════════╪═════════╡\n",
      "│ train   │ 0.6691 │               0.4770 │                0.9473 │  0.0014 │  0.0000 │\n",
      "├─────────┼────────┼──────────────────────┼───────────────────────┼─────────┼─────────┤\n",
      "│ vali    │ 0.6791 │               0.4854 │                0.9585 │  0.0008 │  0.0000 │\n",
      "├─────────┼────────┼──────────────────────┼───────────────────────┼─────────┼─────────┤\n",
      "│ test    │ 0.7076 │               0.5130 │                0.9856 │ -0.0009 │ -0.0000 │\n",
      "╘═════════╧════════╧══════════════════════╧═══════════════════════╧═════════╧═════════╛\n",
      "Validation loss on combined improved, model saved\n",
      "\n",
      "\n",
      "Epoch 3\n",
      "Training: 100%|█████████████████████████████████| 83/83 [00:35<00:00,  2.33it/s]\n",
      "Evaluation train: 100%|█████████████████████████| 83/83 [00:08<00:00, 10.15it/s]\n",
      "Evaluation vali : 100%|█████████████████████████| 12/12 [00:01<00:00, 10.10it/s]\n",
      "Evaluation test : 100%|█████████████████████████| 12/12 [00:01<00:00, 10.09it/s]\n",
      "Took 46.1284s\n",
      "╒═════════╤════════╤══════════════════════╤═══════════════════════╤═════════╤═════════╕\n",
      "│ probs   │   loss │   mean_squared_error │   mean_absolute_error │      r2 │   error │\n",
      "╞═════════╪════════╪══════════════════════╪═══════════════════════╪═════════╪═════════╡\n",
      "│ train   │ 0.6685 │               0.4769 │                0.9397 │  0.0014 │  0.0000 │\n",
      "├─────────┼────────┼──────────────────────┼───────────────────────┼─────────┼─────────┤\n",
      "│ vali    │ 0.6888 │               0.4940 │                0.9606 │  0.0003 │ -0.0000 │\n",
      "├─────────┼────────┼──────────────────────┼───────────────────────┼─────────┼─────────┤\n",
      "│ test    │ 0.7186 │               0.5224 │                0.9870 │ -0.0015 │ -0.0000 │\n",
      "╘═════════╧════════╧══════════════════════╧═══════════════════════╧═════════╧═════════╛\n",
      "Last improvement of loss on combined happened 1 epoch ago\n",
      "\n",
      "\n",
      "Epoch 4\n",
      "Training: 100%|█████████████████████████████████| 83/83 [00:35<00:00,  2.33it/s]\n",
      "Evaluation train: 100%|█████████████████████████| 83/83 [00:08<00:00, 10.10it/s]\n",
      "Evaluation vali : 100%|█████████████████████████| 12/12 [00:01<00:00, 10.23it/s]\n",
      "Evaluation test : 100%|█████████████████████████| 12/12 [00:01<00:00, 10.17it/s]\n",
      "Took 46.1429s\n",
      "╒═════════╤════════╤══════════════════════╤═══════════════════════╤═════════╤═════════╕\n",
      "│ probs   │   loss │   mean_squared_error │   mean_absolute_error │      r2 │   error │\n",
      "╞═════════╪════════╪══════════════════════╪═══════════════════════╪═════════╪═════════╡\n",
      "│ train   │ 0.7339 │               0.5342 │                0.9648 │ -0.0021 │  0.0000 │\n",
      "├─────────┼────────┼──────────────────────┼───────────────────────┼─────────┼─────────┤\n",
      "│ vali    │ 0.7649 │               0.5564 │                0.9934 │ -0.0037 │  0.0000 │\n",
      "├─────────┼────────┼──────────────────────┼───────────────────────┼─────────┼─────────┤\n",
      "│ test    │ 0.8149 │               0.6004 │                1.0288 │ -0.0065 │ -0.0000 │\n",
      "╘═════════╧════════╧══════════════════════╧═══════════════════════╧═════════╧═════════╛\n",
      "Last improvement of loss on combined happened 2 epochs ago\n",
      "\n",
      "\n",
      "Epoch 5\n",
      "Training: 100%|█████████████████████████████████| 83/83 [00:35<00:00,  2.33it/s]\n",
      "Evaluation train: 100%|█████████████████████████| 83/83 [00:08<00:00, 10.08it/s]\n",
      "Evaluation vali : 100%|█████████████████████████| 12/12 [00:01<00:00, 10.26it/s]\n",
      "Evaluation test : 100%|█████████████████████████| 12/12 [00:01<00:00, 10.14it/s]\n",
      "Took 46.2058s\n",
      "╒═════════╤════════╤══════════════════════╤═══════════════════════╤═════════╤═════════╕\n",
      "│ probs   │   loss │   mean_squared_error │   mean_absolute_error │      r2 │   error │\n",
      "╞═════════╪════════╪══════════════════════╪═══════════════════════╪═════════╪═════════╡\n",
      "│ train   │ 0.8962 │               0.6418 │                1.0048 │ -0.0089 │  0.0000 │\n",
      "├─────────┼────────┼──────────────────────┼───────────────────────┼─────────┼─────────┤\n",
      "│ vali    │ 0.9176 │               0.6592 │                1.0339 │ -0.0101 │ -0.0000 │\n",
      "├─────────┼────────┼──────────────────────┼───────────────────────┼─────────┼─────────┤\n",
      "│ test    │ 1.0267 │               0.7147 │                1.0666 │ -0.0137 │ -0.0000 │\n",
      "╘═════════╧════════╧══════════════════════╧═══════════════════════╧═════════╧═════════╛\n",
      "Last improvement of loss on combined happened 3 epochs ago\n",
      "\n",
      "Best validation model epoch: 2\n",
      "Best validation model loss on validation set combined: 1.0554168826722083\n",
      "Best validation model loss on test set combined: 1.0839022386957098\n",
      "\n",
      "Finished: full_supervision_run\n",
      "Saved to: results/xmodal_experiment_run/full_supervision_run_1\n",
      "\n",
      "╒═════════╕\n",
      "│ PREDICT │\n",
      "╘═════════╛\n",
      "\n",
      "Evaluation: 100%|███████████████████████████████| 12/12 [00:01<00:00,  6.90it/s]\n",
      "\n",
      "===== probs =====\n",
      "error: -1.2614739635003306e-09\n",
      "loss: 1.026697663403062\n",
      "mean_absolute_error: 1.0666282542798884\n",
      "mean_squared_error: 0.7147327655206912\n",
      "r2: -0.01374734709502528\n",
      "\n",
      "Finished: full_supervision_run\n",
      "Saved to: results/xmodal_experiment_run/full_supervision_run_1\n"
     ]
    }
   ],
   "source": [
    "! ludwig experiment \\\n",
    "  --data_train_csv ../ludwig/data/xmodal/xmodal_gt_train.csv \\\n",
    "  --data_validation_csv ../ludwig/data/xmodal/xmodal_dev.csv  \\\n",
    "  --data_test_csv ../ludwig/data/xmodal/xmodal_test.csv  \\\n",
    "  --model_definition_file model/xmodal_model_definition.yaml \\\n",
    "  --output_directory results/xmodal_experiment_run \\\n",
    "  --experiment_name full_supervision"
   ]
  },
  {
   "cell_type": "markdown",
   "metadata": {},
   "source": [
    "Now, we can visualize our results using Ludwig:"
   ]
  },
  {
   "cell_type": "code",
   "execution_count": 101,
   "metadata": {},
   "outputs": [
    {
     "data": {
      "image/png": "[encoded data removed]",
      "text/plain": [
       "<Figure size 432x288 with 1 Axes>"
      ]
     },
     "metadata": {},
     "output_type": "display_data"
    },
    {
     "data": {
      "image/png": "[encoded data removed]",
      "text/plain": [
       "<Figure size 432x288 with 1 Axes>"
      ]
     },
     "metadata": {},
     "output_type": "display_data"
    }
   ],
   "source": [
    "import json\n",
    "\n",
    "# Opening log file from experiment\n",
    "with open(f\"results/xmodal_experiment_run/weak_supervision_run_0/training_statistics.json\") as f:\n",
    "    weak_train_stats = json.load(f)\n",
    "    \n",
    "with open(f\"results/xmodal_experiment_run/full_supervision_run_0/training_statistics.json\") as f:\n",
    "    full_train_stats = json.load(f)\n",
    "\n",
    "# USing ludwig to visualize the training curves\n",
    "from ludwig.visualize import learning_curves\n",
    "\n",
    "a = learning_curves(\n",
    "    [weak_train_stats, full_train_stats],\n",
    "    \"combined\",\n",
    "    model_names=[\"weak supervision\", \"full supervision\"],\n",
    "    output_directory=None,\n",
    "    file_format=\"pdf\",\n",
    ")"
   ]
  },
  {
   "cell_type": "code",
   "execution_count": 102,
   "metadata": {},
   "outputs": [
    {
     "data": {
      "image/png": "[encoded data removed]",
      "text/plain": [
       "<Figure size 432x288 with 1 Axes>"
      ]
     },
     "metadata": {},
     "output_type": "display_data"
    }
   ],
   "source": [
    "from ludwig.visualize import compare_performance\n",
    "\n",
    "with open(f\"results/xmodal_experiment_run/weak_supervision_run_0/test_statistics.json\") as f:\n",
    "    weak_test_stats = json.load(f)\n",
    "    \n",
    "with open(f\"results/xmodal_experiment_run/full_supervision_run_0/test_statistics.json\") as f:\n",
    "    full_test_stats = json.load(f)\n",
    "    \n",
    "compare_performance([weak_test_stats, full_test_stats],\n",
    "                   \"combined\",\n",
    "                    model_names = ['Weak Supervision', 'Full Supervision'],\n",
    "                    output_directory = None,\n",
    "                    file_format='pdf'\n",
    "                   )"
   ]
  },
  {
   "cell_type": "code",
   "execution_count": 133,
   "metadata": {},
   "outputs": [
    {
     "name": "stdout",
     "output_type": "stream",
     "text": [
      "Weakly Supervised ROC-AUC: 0.50\n",
      "Fully Supervised ROC-AUC: 0.54\n"
     ]
    }
   ],
   "source": [
    "import numpy as np\n",
    "import sklearn.metrics as metrics\n",
    "\n",
    "# Loading probabilistic predictions\n",
    "weak_probs_test = np.load(\"results/xmodal_experiment_run/weak_supervision_run_0/probs_predictions.npy\")\n",
    "full_probs_test = np.load(\"results/xmodal_experiment_run/full_supervision_run_0/probs_predictions.npy\")\n",
    "\n",
    "# Evaluating model with a cutoff of 0.5\n",
    "weak_preds_test = weak_probs_test[:, 1] > 0.5\n",
    "full_preds_test = full_probs_test[:, 1] > 0.5\n",
    "\n",
    "# Getting ground truth labels\n",
    "Y_test = data['test'].label.values\n",
    "\n",
    "# Computing and printing test set accuracy\n",
    "weak_auc_test = metrics.roc_auc_score(Y_test, weak_probs_test[:,1])\n",
    "full_auc_test = metrics.roc_auc_score(Y_test, full_probs_test[:,1])\n",
    "\n",
    "print(f\"Weakly Supervised ROC-AUC: {weak_auc_test:0.2f}\")\n",
    "print(f\"Fully Supervised ROC-AUC: {full_auc_test:0.2f}\")"
   ]
  },
  {
   "cell_type": "markdown",
   "metadata": {},
   "source": [
    "If the models have trained successfully, you should observe that the weakly and fully supervised models both achieve ROC-AUC scores around 0.70-0.75.  This indicates that the weak labels we created using our labeling functions over the text have successfully allowed us to train a CNN model that performs similarly to one trained using ground truth, but *without having to label thousands of images*.  \n",
    "\n",
    "Further, we would expect the performance of the weakly supervised model to improve as more *unlabeled* data is added to this relatively small dataset!\n",
    "\n",
    "Congratulations! You've just trained a deep learning model using cross-modal data programming! "
   ]
  }
 ],
 "metadata": {
  "kernelspec": {
   "display_name": "snorkel",
   "language": "python",
   "name": "snorkel"
  },
  "language_info": {
   "codemirror_mode": {
    "name": "ipython",
    "version": 3
   },
   "file_extension": ".py",
   "mimetype": "text/x-python",
   "name": "python",
   "nbconvert_exporter": "python",
   "pygments_lexer": "ipython3",
   "version": "3.6.9"
  }
 },
 "nbformat": 4,
 "nbformat_minor": 4
}
