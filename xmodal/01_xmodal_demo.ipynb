{
 "cells": [
  {
   "cell_type": "markdown",
   "metadata": {},
   "source": [
    "# Classifying Chest X-rays with Cross-Modal Data Programming"
   ]
  },
  {
   "cell_type": "markdown",
   "metadata": {},
   "source": [
    "This tutorial demonstrates how to use the *cross-modal data programming* technique described in Dunnmon and Ratner, et al. (2019) to build a Convolutional Neural Network (CNN) model for chest radiograph triage with no hand-labeled training data that performs similarly to a CNN supervised using several thousand data points labeled by radiologists. \n",
    "\n",
    "In cross-modal data programming, we model and combine expert-provided heuristics written over an auxiliary modality (e.g. a text report), which is only available at training time, to create probabilistic labels for training a machine learning model over a target modality (e.g. a chest radiograph).  \n",
    "\n",
    "Below, we provide a step-by-step walkthrough of how to apply this technique to a small, publicly available chest radiograph dataset.  This process is equivalent to that followed for each dataset in our 2019 submission. \n",
    "\n",
    "We use high-level APIs from Snorkel to support heuristic development and model training."
   ]
  },
  {
   "cell_type": "markdown",
   "metadata": {},
   "source": [
    "## Step 0: Setting Up the Environment"
   ]
  },
  {
   "cell_type": "markdown",
   "metadata": {},
   "source": [
    "We begin by setting up our notebook environment and importing relevant Python packages."
   ]
  },
  {
   "cell_type": "code",
   "execution_count": 1,
   "metadata": {},
   "outputs": [
    {
     "name": "stdout",
     "output_type": "stream",
     "text": [
      "GPU Available? True\n"
     ]
    }
   ],
   "source": [
    "%load_ext autoreload\n",
    "%autoreload 2\n",
    "%matplotlib inline\n",
    "\n",
    "import sys, os\n",
    "import torch\n",
    "# Making sure CUDA devices are visible\n",
    "os.environ['CUDA_VISIBLE_DEVICES']='0'\n",
    "print(f'GPU Available? {torch.cuda.is_available()}')\n",
    "\n",
    "# Importing pandas for data processing\n",
    "import pandas as pd"
   ]
  },
  {
   "cell_type": "markdown",
   "metadata": {},
   "source": [
    "## Step 0: Downloading Data"
   ]
  },
  {
   "cell_type": "markdown",
   "metadata": {},
   "source": [
    "Run the cell below (uncommented) to download your data; only do this once!"
   ]
  },
  {
   "cell_type": "code",
   "execution_count": 2,
   "metadata": {},
   "outputs": [],
   "source": [
    "#! bash data/download.sh\n",
    "#! mv openi data\n",
    "#! rm NLMCXR_png.tgz"
   ]
  },
  {
   "cell_type": "markdown",
   "metadata": {},
   "source": [
    "## Step 1: Loading and Splitting the Data"
   ]
  },
  {
   "cell_type": "markdown",
   "metadata": {},
   "source": [
    "First, we set up the data dictionary and load data that we've already split for you into an (approximately) 80% train split, 10% validation split, and 10% test split.  Each raw data point contains three fields: a text report, a label (normal or abnormal), and a set of image paths.  The original data, from the OpenI dataset, is maintained by [NIH](https://openi.nlm.nih.gov/faq.php)."
   ]
  },
  {
   "cell_type": "code",
   "execution_count": 3,
   "metadata": {},
   "outputs": [
    {
     "name": "stdout",
     "output_type": "stream",
     "text": [
      "2630 train examples: 63.8% Abnormal\n",
      "376 dev examples: 63.0% Abnormal\n",
      "378 test examples: 61.6% Abnormal\n"
     ]
    }
   ],
   "source": [
    "# Setting up data dictionary and defining data splits\n",
    "data = {}\n",
    "splits = ['train','dev','test']\n",
    "\n",
    "for split in splits:\n",
    "    data[split] = pd.read_csv(f'data/{split}_entries.csv')[['label','xray_paths','text']]\n",
    "    perc_pos = sum(data[split]['label']==1)/len(data[split])\n",
    "    print(f'{len(data[split])} {split} examples: {100*perc_pos:0.1f}% Abnormal')"
   ]
  },
  {
   "cell_type": "markdown",
   "metadata": {},
   "source": [
    "You can see an example of a single data point below -- note that the raw label convention for our normal vs. abnormal classification problem is 1 for abnormal and 2 for normal."
   ]
  },
  {
   "cell_type": "code",
   "execution_count": 4,
   "metadata": {},
   "outputs": [
    {
     "name": "stdout",
     "output_type": "stream",
     "text": [
      "RAW TEXT:\n",
      " \n",
      " COMPARISON: Chest x-XXXX XXXX INDICATION: XXXX in bathtub FINDINGS: The lungs and pleural spaces show no acute abnormality. Hyperexpanded lungs. Calcified right upper lobe granuloma, unchanged. Heart size and pulmonary vascularity within normal limits. No displaced rib fractures. IMPRESSION: 1. Hyperexpansion without acute pulmonary abnormality. \n",
      "\n",
      "IMAGE PATHS: \n",
      " \n",
      " ./data/openi/xrays/CXR2824_IM-1245-13001.png \n",
      "\n",
      "LABEL: 1\n"
     ]
    }
   ],
   "source": [
    "# Getting a single sample from the dataframe\n",
    "# Change sample_index to see different examples\n",
    "\n",
    "sample_index = 0\n",
    "sample = data['train'].iloc[sample_index]\n",
    "print('RAW TEXT:\\n \\n',sample['text'],'\\n')\n",
    "print('IMAGE PATHS: \\n \\n', sample['xray_paths'],'\\n')\n",
    "print('LABEL:', sample['label'])"
   ]
  },
  {
   "cell_type": "markdown",
   "metadata": {},
   "source": [
    "## Step 2: Developing LFs"
   ]
  },
  {
   "cell_type": "markdown",
   "metadata": {},
   "source": [
    "We now define our *labeling functions* (LFs): simple, heuristic functions written by a domain expert (e.g., a radiologist) that correctly label a report as normal or abnormal with probability better than random chance.  \n",
    "\n",
    "We give an example of all three types of LFs we reference in our paper: general pattern LFs that operate on patterns a non-expert user could easily identify, medical pattern LFs that operate on patterns easily identifiable by a clinician, and structural LFs that focus on specific structural elements of the report (e.g. how long it is) that have some correlation with the scan it describes being normal or abnormal."
   ]
  },
  {
   "cell_type": "code",
   "execution_count": 5,
   "metadata": {},
   "outputs": [],
   "source": [
    "import re\n",
    "from snorkel.labeling import labeling_function\n",
    "\n",
    "# Value to use for abstain votes\n",
    "ABSTAIN = -1\n",
    "# Value to use for abnormal votes\n",
    "ABNORMAL = 1\n",
    "# Value to use for normal votes\n",
    "NORMAL = 0\n",
    "\n",
    "# Example of a General Pattern LF\n",
    "@labeling_function()\n",
    "def LF_is_seen_or_noted_in_report_demo(x):\n",
    "    if any(word in x.text.lower() for word in [\"is seen\", \"noted\"]):\n",
    "        return ABNORMAL\n",
    "    else:\n",
    "        return ABSTAIN\n",
    "\n",
    "# Example of a Medical Pattern LF\n",
    "@labeling_function()\n",
    "def LF_lung_hyperdistention_demo(x):\n",
    "    \"\"\"\n",
    "    Votes abnormal for indications of lung hyperdistention.\n",
    "    \"\"\"\n",
    "    reg_01 = re.compile(\"increased volume|hyperexpan|inflated\", re.IGNORECASE)\n",
    "    for s in x.text.split(\".\"):\n",
    "        if reg_01.search(s):\n",
    "            return ABNORMAL\n",
    "    ### *** ###\n",
    "    return NORMAL\n",
    "\n",
    "# Example of a Structural LF\n",
    "@labeling_function()\n",
    "def LF_report_is_short_demo(x):\n",
    "    \"\"\"\n",
    "    Checks if report is short.\n",
    "    \"\"\"\n",
    "    return NORMAL if len(x.text) < 280 else ABSTAIN"
   ]
  },
  {
   "cell_type": "markdown",
   "metadata": {},
   "source": [
    "Now, we can see how well these LFs might do at correctly indicating normal or abnormal examples.  Check them out by changing the `lf_test` function in the cell below to reference one of those listed above. "
   ]
  },
  {
   "cell_type": "code",
   "execution_count": 6,
   "metadata": {},
   "outputs": [
    {
     "name": "stderr",
     "output_type": "stream",
     "text": [
      "100%|██████████| 376/376 [00:00<00:00, 22858.90it/s]\n"
     ]
    },
    {
     "data": {
      "text/html": [
       "<div>\n",
       "<style scoped>\n",
       "    .dataframe tbody tr th:only-of-type {\n",
       "        vertical-align: middle;\n",
       "    }\n",
       "\n",
       "    .dataframe tbody tr th {\n",
       "        vertical-align: top;\n",
       "    }\n",
       "\n",
       "    .dataframe thead th {\n",
       "        text-align: right;\n",
       "    }\n",
       "</style>\n",
       "<table border=\"1\" class=\"dataframe\">\n",
       "  <thead>\n",
       "    <tr style=\"text-align: right;\">\n",
       "      <th></th>\n",
       "      <th>j</th>\n",
       "      <th>Polarity</th>\n",
       "      <th>Coverage</th>\n",
       "      <th>Overlaps</th>\n",
       "      <th>Conflicts</th>\n",
       "      <th>Correct</th>\n",
       "      <th>Incorrect</th>\n",
       "      <th>Emp. Acc.</th>\n",
       "    </tr>\n",
       "  </thead>\n",
       "  <tbody>\n",
       "    <tr>\n",
       "      <th>LF_lung_hyperdistention_demo</th>\n",
       "      <td>0</td>\n",
       "      <td>[0, 1]</td>\n",
       "      <td>1.0</td>\n",
       "      <td>0.0</td>\n",
       "      <td>0.0</td>\n",
       "      <td>168</td>\n",
       "      <td>208</td>\n",
       "      <td>0.446809</td>\n",
       "    </tr>\n",
       "  </tbody>\n",
       "</table>\n",
       "</div>"
      ],
      "text/plain": [
       "                              j Polarity  Coverage  Overlaps  Conflicts  \\\n",
       "LF_lung_hyperdistention_demo  0   [0, 1]       1.0       0.0        0.0   \n",
       "\n",
       "                              Correct  Incorrect  Emp. Acc.  \n",
       "LF_lung_hyperdistention_demo      168        208   0.446809  "
      ]
     },
     "execution_count": 6,
     "metadata": {},
     "output_type": "execute_result"
    }
   ],
   "source": [
    "from snorkel.labeling import PandasLFApplier, LFAnalysis\n",
    "\n",
    "# Testing single LF\n",
    "lfs_test = [LF_lung_hyperdistention_demo]\n",
    "\n",
    "# Computing LF outputs on dev set\n",
    "applier = PandasLFApplier(lfs=lfs_test)\n",
    "L_dev = applier.apply(df=data['dev'])\n",
    "\n",
    "# Getting ground truth dev set labels\n",
    "Y_dev = data['dev'].label.values\n",
    "\n",
    "# Summarizing LF performance\n",
    "LFAnalysis(L=L_dev, lfs=lfs_test).lf_summary(Y=Y_dev)"
   ]
  },
  {
   "cell_type": "markdown",
   "metadata": {},
   "source": [
    "If we use analyze the `LF_lung_hyperdistention_demo` function -- in this case,  we see that it has polarity [1,2], meaning it votes on both class 1 and class 2 (and votes on every example because `coverage` = 1.0), but that it has low accuracy (around 44%).  Let's look at the confusion matrix to see why. "
   ]
  },
  {
   "cell_type": "code",
   "execution_count": 7,
   "metadata": {},
   "outputs": [
    {
     "name": "stdout",
     "output_type": "stream",
     "text": [
      "        y=0    y=1   \n",
      " l=0    136    205   \n",
      " l=1     3     32    \n"
     ]
    }
   ],
   "source": [
    "from utils import confusion_matrix\n",
    "\n",
    "# HACK: API DOESN'T HAVE NICE PRINTING ANY MORE?\n",
    "\n",
    "# Print confusion matrix\n",
    "conf = confusion_matrix(Y_dev, L_dev[0:])"
   ]
  },
  {
   "cell_type": "markdown",
   "metadata": {},
   "source": [
    "Clearly, this LF is much more accurate on abnormal examples (where y=1) than on normal examples (where y=2).  Why don't we adjust it to only vote in the positive direction and see how we do?  \n",
    "\n",
    "Go ahead and change `NORMAL` to `ABSTAIN` in the `LF_lung_hyperdistention_demo` function (the line below the `### *** ###` comment), and rerun the last three code cells.  \n",
    "\n",
    "You'll see that by making this rule a bit more targeted, its coverage decreases to 9%, but it's accuracy jumps to over 90%.  This type of iteration is exactly how clinicians can develop LFs in practice.\n",
    "\n",
    "You may also notice that it's very easy to write these LFs over text, but it would be very hard to, say, write an `LF_lung_hyperdistention` version that operates over an image -- this is why cross-modality is so important!"
   ]
  },
  {
   "cell_type": "markdown",
   "metadata": {},
   "source": [
    "## Step 3: Computing the Label Matrix"
   ]
  },
  {
   "cell_type": "markdown",
   "metadata": {},
   "source": [
    "Once we've designed a couple of LFs, it's time to execute them all on every example we have to create a *label matrix*.  This is an $n$ by $m$ matrix, where $n$ is the number of examples and $m$ is the number of LFs.  \n",
    "\n",
    "Below, we've provided more LFs to give you a sense of a what a real application would look like -- code for these can be found in the `labeling_functions.py` file in this directory."
   ]
  },
  {
   "cell_type": "code",
   "execution_count": 8,
   "metadata": {},
   "outputs": [],
   "source": [
    "from labeling_functions import *\n",
    "\n",
    "lfs = [\n",
    "    LF_report_is_short,\n",
    "    LF_consistency_in_report,\n",
    "    LF_negative_inflection_words_in_report,\n",
    "    LF_is_seen_or_noted_in_report,\n",
    "    LF_disease_in_report,\n",
    "    LF_abnormal_mesh_terms_in_report,\n",
    "    LF_recommend_in_report,\n",
    "    LF_mm_in_report,\n",
    "    LF_normal,\n",
    "    LF_positive_MeshTerm,\n",
    "    LF_fracture,\n",
    "    LF_calcinosis,\n",
    "    LF_degen_spine,\n",
    "    LF_lung_hypoinflation,\n",
    "    LF_lung_hyperdistention,\n",
    "    LF_catheters,\n",
    "    LF_surgical,\n",
    "    LF_granuloma,\n",
    "]"
   ]
  },
  {
   "cell_type": "markdown",
   "metadata": {},
   "source": [
    "Now, we simply apply each of our LFs to each of our reports."
   ]
  },
  {
   "cell_type": "code",
   "execution_count": 9,
   "metadata": {},
   "outputs": [
    {
     "name": "stderr",
     "output_type": "stream",
     "text": [
      "  5%|▌         | 144/2630 [00:00<00:01, 1438.92it/s]"
     ]
    },
    {
     "name": "stdout",
     "output_type": "stream",
     "text": [
      "Computing label matrices and creating ground truth label vectors...\n"
     ]
    },
    {
     "name": "stderr",
     "output_type": "stream",
     "text": [
      "100%|██████████| 2630/2630 [00:01<00:00, 1680.55it/s]\n",
      "100%|██████████| 376/376 [00:00<00:00, 1984.09it/s]\n",
      "100%|██████████| 378/378 [00:00<00:00, 1978.56it/s]\n"
     ]
    }
   ],
   "source": [
    "# Allocating label matrix and ground truth label lists\n",
    "Ls = {}\n",
    "Ys = {}\n",
    "\n",
    "# Computing lfs\n",
    "print('Computing label matrices and creating ground truth label vectors...')\n",
    "applier = PandasLFApplier(lfs=lfs)\n",
    "\n",
    "for split in ['train','dev','test']:\n",
    "    Ls[split] = applier.apply(df=data[split])\n",
    "    Ys[split] = data[split].label.values"
   ]
  },
  {
   "cell_type": "markdown",
   "metadata": {},
   "source": [
    "Now that we've done this, we can inspect our accuracy on the development set and other useful LF metrics using the simple Snorkel interface."
   ]
  },
  {
   "cell_type": "code",
   "execution_count": 10,
   "metadata": {},
   "outputs": [
    {
     "data": {
      "text/html": [
       "<div>\n",
       "<style scoped>\n",
       "    .dataframe tbody tr th:only-of-type {\n",
       "        vertical-align: middle;\n",
       "    }\n",
       "\n",
       "    .dataframe tbody tr th {\n",
       "        vertical-align: top;\n",
       "    }\n",
       "\n",
       "    .dataframe thead th {\n",
       "        text-align: right;\n",
       "    }\n",
       "</style>\n",
       "<table border=\"1\" class=\"dataframe\">\n",
       "  <thead>\n",
       "    <tr style=\"text-align: right;\">\n",
       "      <th></th>\n",
       "      <th>j</th>\n",
       "      <th>Polarity</th>\n",
       "      <th>Coverage</th>\n",
       "      <th>Overlaps</th>\n",
       "      <th>Conflicts</th>\n",
       "      <th>Correct</th>\n",
       "      <th>Incorrect</th>\n",
       "      <th>Emp. Acc.</th>\n",
       "    </tr>\n",
       "  </thead>\n",
       "  <tbody>\n",
       "    <tr>\n",
       "      <th>LF_report_is_short</th>\n",
       "      <td>0</td>\n",
       "      <td>[0]</td>\n",
       "      <td>0.303191</td>\n",
       "      <td>0.303191</td>\n",
       "      <td>0.196809</td>\n",
       "      <td>72</td>\n",
       "      <td>42</td>\n",
       "      <td>0.631579</td>\n",
       "    </tr>\n",
       "    <tr>\n",
       "      <th>LF_consistency_in_report</th>\n",
       "      <td>1</td>\n",
       "      <td>[0, 1]</td>\n",
       "      <td>1.000000</td>\n",
       "      <td>0.928191</td>\n",
       "      <td>0.476064</td>\n",
       "      <td>269</td>\n",
       "      <td>107</td>\n",
       "      <td>0.715426</td>\n",
       "    </tr>\n",
       "    <tr>\n",
       "      <th>LF_negative_inflection_words_in_report</th>\n",
       "      <td>2</td>\n",
       "      <td>[1]</td>\n",
       "      <td>0.082447</td>\n",
       "      <td>0.082447</td>\n",
       "      <td>0.039894</td>\n",
       "      <td>30</td>\n",
       "      <td>1</td>\n",
       "      <td>0.967742</td>\n",
       "    </tr>\n",
       "    <tr>\n",
       "      <th>LF_is_seen_or_noted_in_report</th>\n",
       "      <td>3</td>\n",
       "      <td>[1]</td>\n",
       "      <td>0.085106</td>\n",
       "      <td>0.085106</td>\n",
       "      <td>0.034574</td>\n",
       "      <td>25</td>\n",
       "      <td>7</td>\n",
       "      <td>0.781250</td>\n",
       "    </tr>\n",
       "    <tr>\n",
       "      <th>LF_disease_in_report</th>\n",
       "      <td>4</td>\n",
       "      <td>[1]</td>\n",
       "      <td>0.372340</td>\n",
       "      <td>0.372340</td>\n",
       "      <td>0.234043</td>\n",
       "      <td>89</td>\n",
       "      <td>51</td>\n",
       "      <td>0.635714</td>\n",
       "    </tr>\n",
       "    <tr>\n",
       "      <th>LF_abnormal_mesh_terms_in_report</th>\n",
       "      <td>5</td>\n",
       "      <td>[1]</td>\n",
       "      <td>0.417553</td>\n",
       "      <td>0.417553</td>\n",
       "      <td>0.204787</td>\n",
       "      <td>141</td>\n",
       "      <td>16</td>\n",
       "      <td>0.898089</td>\n",
       "    </tr>\n",
       "    <tr>\n",
       "      <th>LF_recommend_in_report</th>\n",
       "      <td>6</td>\n",
       "      <td>[1]</td>\n",
       "      <td>0.015957</td>\n",
       "      <td>0.015957</td>\n",
       "      <td>0.002660</td>\n",
       "      <td>6</td>\n",
       "      <td>0</td>\n",
       "      <td>1.000000</td>\n",
       "    </tr>\n",
       "    <tr>\n",
       "      <th>LF_mm_in_report</th>\n",
       "      <td>7</td>\n",
       "      <td>[1]</td>\n",
       "      <td>0.053191</td>\n",
       "      <td>0.053191</td>\n",
       "      <td>0.010638</td>\n",
       "      <td>20</td>\n",
       "      <td>0</td>\n",
       "      <td>1.000000</td>\n",
       "    </tr>\n",
       "    <tr>\n",
       "      <th>LF_normal</th>\n",
       "      <td>8</td>\n",
       "      <td>[0]</td>\n",
       "      <td>0.159574</td>\n",
       "      <td>0.159574</td>\n",
       "      <td>0.082447</td>\n",
       "      <td>34</td>\n",
       "      <td>26</td>\n",
       "      <td>0.566667</td>\n",
       "    </tr>\n",
       "    <tr>\n",
       "      <th>LF_positive_MeshTerm</th>\n",
       "      <td>9</td>\n",
       "      <td>[1]</td>\n",
       "      <td>0.295213</td>\n",
       "      <td>0.295213</td>\n",
       "      <td>0.143617</td>\n",
       "      <td>108</td>\n",
       "      <td>3</td>\n",
       "      <td>0.972973</td>\n",
       "    </tr>\n",
       "    <tr>\n",
       "      <th>LF_fracture</th>\n",
       "      <td>10</td>\n",
       "      <td>[1]</td>\n",
       "      <td>0.031915</td>\n",
       "      <td>0.031915</td>\n",
       "      <td>0.013298</td>\n",
       "      <td>11</td>\n",
       "      <td>1</td>\n",
       "      <td>0.916667</td>\n",
       "    </tr>\n",
       "    <tr>\n",
       "      <th>LF_calcinosis</th>\n",
       "      <td>11</td>\n",
       "      <td>[1]</td>\n",
       "      <td>0.018617</td>\n",
       "      <td>0.018617</td>\n",
       "      <td>0.007979</td>\n",
       "      <td>7</td>\n",
       "      <td>0</td>\n",
       "      <td>1.000000</td>\n",
       "    </tr>\n",
       "    <tr>\n",
       "      <th>LF_degen_spine</th>\n",
       "      <td>12</td>\n",
       "      <td>[1]</td>\n",
       "      <td>0.111702</td>\n",
       "      <td>0.111702</td>\n",
       "      <td>0.039894</td>\n",
       "      <td>42</td>\n",
       "      <td>0</td>\n",
       "      <td>1.000000</td>\n",
       "    </tr>\n",
       "    <tr>\n",
       "      <th>LF_lung_hypoinflation</th>\n",
       "      <td>13</td>\n",
       "      <td>[1]</td>\n",
       "      <td>0.069149</td>\n",
       "      <td>0.069149</td>\n",
       "      <td>0.023936</td>\n",
       "      <td>26</td>\n",
       "      <td>0</td>\n",
       "      <td>1.000000</td>\n",
       "    </tr>\n",
       "    <tr>\n",
       "      <th>LF_lung_hyperdistention</th>\n",
       "      <td>14</td>\n",
       "      <td>[1]</td>\n",
       "      <td>0.093085</td>\n",
       "      <td>0.093085</td>\n",
       "      <td>0.053191</td>\n",
       "      <td>32</td>\n",
       "      <td>3</td>\n",
       "      <td>0.914286</td>\n",
       "    </tr>\n",
       "    <tr>\n",
       "      <th>LF_catheters</th>\n",
       "      <td>15</td>\n",
       "      <td>[1]</td>\n",
       "      <td>0.034574</td>\n",
       "      <td>0.034574</td>\n",
       "      <td>0.013298</td>\n",
       "      <td>12</td>\n",
       "      <td>1</td>\n",
       "      <td>0.923077</td>\n",
       "    </tr>\n",
       "    <tr>\n",
       "      <th>LF_surgical</th>\n",
       "      <td>16</td>\n",
       "      <td>[1]</td>\n",
       "      <td>0.029255</td>\n",
       "      <td>0.029255</td>\n",
       "      <td>0.007979</td>\n",
       "      <td>11</td>\n",
       "      <td>0</td>\n",
       "      <td>1.000000</td>\n",
       "    </tr>\n",
       "    <tr>\n",
       "      <th>LF_granuloma</th>\n",
       "      <td>17</td>\n",
       "      <td>[1]</td>\n",
       "      <td>0.140957</td>\n",
       "      <td>0.140957</td>\n",
       "      <td>0.079787</td>\n",
       "      <td>53</td>\n",
       "      <td>0</td>\n",
       "      <td>1.000000</td>\n",
       "    </tr>\n",
       "  </tbody>\n",
       "</table>\n",
       "</div>"
      ],
      "text/plain": [
       "                                         j Polarity  Coverage  Overlaps  \\\n",
       "LF_report_is_short                       0      [0]  0.303191  0.303191   \n",
       "LF_consistency_in_report                 1   [0, 1]  1.000000  0.928191   \n",
       "LF_negative_inflection_words_in_report   2      [1]  0.082447  0.082447   \n",
       "LF_is_seen_or_noted_in_report            3      [1]  0.085106  0.085106   \n",
       "LF_disease_in_report                     4      [1]  0.372340  0.372340   \n",
       "LF_abnormal_mesh_terms_in_report         5      [1]  0.417553  0.417553   \n",
       "LF_recommend_in_report                   6      [1]  0.015957  0.015957   \n",
       "LF_mm_in_report                          7      [1]  0.053191  0.053191   \n",
       "LF_normal                                8      [0]  0.159574  0.159574   \n",
       "LF_positive_MeshTerm                     9      [1]  0.295213  0.295213   \n",
       "LF_fracture                             10      [1]  0.031915  0.031915   \n",
       "LF_calcinosis                           11      [1]  0.018617  0.018617   \n",
       "LF_degen_spine                          12      [1]  0.111702  0.111702   \n",
       "LF_lung_hypoinflation                   13      [1]  0.069149  0.069149   \n",
       "LF_lung_hyperdistention                 14      [1]  0.093085  0.093085   \n",
       "LF_catheters                            15      [1]  0.034574  0.034574   \n",
       "LF_surgical                             16      [1]  0.029255  0.029255   \n",
       "LF_granuloma                            17      [1]  0.140957  0.140957   \n",
       "\n",
       "                                        Conflicts  Correct  Incorrect  \\\n",
       "LF_report_is_short                       0.196809       72         42   \n",
       "LF_consistency_in_report                 0.476064      269        107   \n",
       "LF_negative_inflection_words_in_report   0.039894       30          1   \n",
       "LF_is_seen_or_noted_in_report            0.034574       25          7   \n",
       "LF_disease_in_report                     0.234043       89         51   \n",
       "LF_abnormal_mesh_terms_in_report         0.204787      141         16   \n",
       "LF_recommend_in_report                   0.002660        6          0   \n",
       "LF_mm_in_report                          0.010638       20          0   \n",
       "LF_normal                                0.082447       34         26   \n",
       "LF_positive_MeshTerm                     0.143617      108          3   \n",
       "LF_fracture                              0.013298       11          1   \n",
       "LF_calcinosis                            0.007979        7          0   \n",
       "LF_degen_spine                           0.039894       42          0   \n",
       "LF_lung_hypoinflation                    0.023936       26          0   \n",
       "LF_lung_hyperdistention                  0.053191       32          3   \n",
       "LF_catheters                             0.013298       12          1   \n",
       "LF_surgical                              0.007979       11          0   \n",
       "LF_granuloma                             0.079787       53          0   \n",
       "\n",
       "                                        Emp. Acc.  \n",
       "LF_report_is_short                       0.631579  \n",
       "LF_consistency_in_report                 0.715426  \n",
       "LF_negative_inflection_words_in_report   0.967742  \n",
       "LF_is_seen_or_noted_in_report            0.781250  \n",
       "LF_disease_in_report                     0.635714  \n",
       "LF_abnormal_mesh_terms_in_report         0.898089  \n",
       "LF_recommend_in_report                   1.000000  \n",
       "LF_mm_in_report                          1.000000  \n",
       "LF_normal                                0.566667  \n",
       "LF_positive_MeshTerm                     0.972973  \n",
       "LF_fracture                              0.916667  \n",
       "LF_calcinosis                            1.000000  \n",
       "LF_degen_spine                           1.000000  \n",
       "LF_lung_hypoinflation                    1.000000  \n",
       "LF_lung_hyperdistention                  0.914286  \n",
       "LF_catheters                             0.923077  \n",
       "LF_surgical                              1.000000  \n",
       "LF_granuloma                             1.000000  "
      ]
     },
     "execution_count": 10,
     "metadata": {},
     "output_type": "execute_result"
    }
   ],
   "source": [
    "# Summarizing LF performance\n",
    "LFAnalysis(L=Ls['dev'], lfs=lfs).lf_summary(Y=Y_dev)"
   ]
  },
  {
   "cell_type": "markdown",
   "metadata": {},
   "source": [
    "Note that all of our labeling functions, while certainly imperfect, are better than random chance.  This fulfills the only theoretical requirement of the cross-modal data programming algorithm.  \n",
    "\n",
    "We can also get a sense of where the LFs overlap and conflict by inspecting the following plot; it is useful that some of the LFs overlap or conflict, as this provides signal that allows us to learn their accuracies."
   ]
  },
  {
   "cell_type": "code",
   "execution_count": 11,
   "metadata": {},
   "outputs": [
    {
     "data": {
      "image/png": "[encoded data removed]",
      "text/plain": [
       "<Figure size 432x288 with 2 Axes>"
      ]
     },
     "metadata": {
      "needs_background": "light"
     },
     "output_type": "display_data"
    }
   ],
   "source": [
    "from utils import view_conflicts\n",
    "\n",
    "# HACK: WHY IS THIS DIFFERENT THAN BEFORE? CHECK INDEXING\n",
    "# Viewing conflicts\n",
    "view_conflicts(Ls['dev'], normalize=True)"
   ]
  },
  {
   "cell_type": "markdown",
   "metadata": {},
   "source": [
    "## Step 4: Train a Label Model in Snorkel"
   ]
  },
  {
   "cell_type": "markdown",
   "metadata": {},
   "source": [
    "Next, we use the Snorkel MeTaL model training API (imported as `metal`) to train a generative model that learns the accuracies of our LFs.  By combining our labeling functions based on their accuracies, we can recover a model that outputs higher quality\n",
    "weak labels.\n",
    "\n",
    "We perform a simple random hyperparameter search over learning rate and L2 regularization, using our small labeled development set to choose the best model.  "
   ]
  },
  {
   "cell_type": "code",
   "execution_count": 12,
   "metadata": {},
   "outputs": [],
   "source": [
    "from snorkel.labeling import LabelModel\n",
    "import warnings\n",
    "warnings.filterwarnings('ignore')\n",
    "\n",
    "# HACK: NO VERBOSE TRAINING ANYMORE?\n",
    "\n",
    "gm = LabelModel(cardinality=2, verbose=True)\n",
    "gm.fit(L_train=Ls['train'], n_epochs=10000, lr=0.01, log_freq=100, seed=123)"
   ]
  },
  {
   "cell_type": "markdown",
   "metadata": {},
   "source": [
    "We evaluate our best model on the development set as below -- you should recover a model with best accuracy of approximately 85% on the development set."
   ]
  },
  {
   "cell_type": "code",
   "execution_count": 13,
   "metadata": {},
   "outputs": [
    {
     "name": "stderr",
     "output_type": "stream",
     "text": [
      "WARNING:root:Metrics calculated over data points with non-abstain labels only\n"
     ]
    },
    {
     "name": "stdout",
     "output_type": "stream",
     "text": [
      "Generative Model Scores\n",
      "accuracy : 87.2%\n",
      "precision : 92.4%\n",
      "recall : 86.9%\n",
      "f1 : 89.6%\n",
      "roc_auc : 93.4%\n"
     ]
    }
   ],
   "source": [
    "# GM SCORING CELL\n",
    "# Getting scores\n",
    "scores = gm.score(Ls['dev'], Y=Ys['dev'], metrics=['accuracy','precision', 'recall', 'f1','roc_auc'])\n",
    "print(\"Generative Model Scores\")\n",
    "_ = [print(f\"{k} : {v*100:.1f}%\") for (k,v) in scores.items()]"
   ]
  },
  {
   "cell_type": "markdown",
   "metadata": {},
   "source": [
    "Why is this useful?  If we compare to majority vote, we see a couple points of improvement in accuracy.  Note that the degree to which we expect this model to improve over majority vote varies based on the type of dataset involved, as detailed in the 2017 [VLDB Paper](http://www.vldb.org/pvldb/vol11/p269-ratner.pdf) describing the Snorkel system."
   ]
  },
  {
   "cell_type": "code",
   "execution_count": 14,
   "metadata": {},
   "outputs": [
    {
     "name": "stderr",
     "output_type": "stream",
     "text": [
      "WARNING:root:Metrics calculated over data points with non-abstain labels only\n"
     ]
    },
    {
     "name": "stdout",
     "output_type": "stream",
     "text": [
      "Majority Vote Scores\n",
      "accuracy : 87.1%\n",
      "precision : 93.7%\n",
      "recall : 85.6%\n",
      "f1 : 89.5%\n",
      "roc_auc : 87.7%\n"
     ]
    }
   ],
   "source": [
    "from snorkel.labeling import MajorityLabelVoter\n",
    "\n",
    "majority_model = MajorityLabelVoter()\n",
    "preds_train = majority_model.predict(L=Ls['train'])\n",
    "\n",
    "# Checking if we beat majority vote\n",
    "mv = MajorityLabelVoter()\n",
    "scores = mv.score(Ls['dev'], Y=Ys['dev'], metrics=['accuracy','precision', 'recall', 'f1','roc_auc'])\n",
    "print(\"Majority Vote Scores\")\n",
    "_ = [print(f\"{k} : {v*100:.1f}%\") for (k,v) in scores.items()]"
   ]
  },
  {
   "cell_type": "markdown",
   "metadata": {},
   "source": [
    "## Step 5: Apply Heuristic Optimizer for LSTM Training"
   ]
  },
  {
   "cell_type": "markdown",
   "metadata": {},
   "source": [
    "We now apply the cross-modal data programming heuristic optimizer to determine whether or not to train an LSTM mapping the raw report text to the generative model output.  We can train a text model (as in the spam example) to directly map our raw text to the generative model output if either our (a) coverage or (b) ROC-AUC is low.  Heuristically, we often train such a model using standard tools from PyTorch in cases where either coverage or ROC-AUC of the generative model on the development set is less than 90%.  \n",
    "\n",
    "For this example, our coverage is 100%, and generative model (`gm`) ROC-AUC should be around 92% on the development set (see cell above with comment `GM SCORING CELL`).  Thus, we forego training the LSTM, and use our generative model directly to provide weak labels for our target modality model."
   ]
  },
  {
   "cell_type": "markdown",
   "metadata": {},
   "source": [
    "## Step 6: Create a Weakly Labeled Training Set"
   ]
  },
  {
   "cell_type": "markdown",
   "metadata": {},
   "source": [
    "We can now use this trained generative model to create weak labels for each of our train, development, and test splits by applying it to the label matrices, as below. "
   ]
  },
  {
   "cell_type": "code",
   "execution_count": 15,
   "metadata": {},
   "outputs": [],
   "source": [
    "Y_ps = {}\n",
    "Y_preds = {}\n",
    "for split in ['train','dev','test']:\n",
    "    Y_ps[split] = gm.predict_proba(Ls[split])\n",
    "    Y_preds[split] = gm.predict(Ls[split])"
   ]
  },
  {
   "cell_type": "markdown",
   "metadata": {},
   "source": [
    "We can inspect the distribution of our weak training labels, and note that they are assigned varying degrees of probability.  An advantage of this labeling approach is that probabilistic labels can be very descriptive -- i.e., if an example has a 60% probability of being abnormal, we train against that 0.6 probability, rather than binarizing to 100%.  "
   ]
  },
  {
   "cell_type": "code",
   "execution_count": 16,
   "metadata": {},
   "outputs": [
    {
     "data": {
      "image/png": "[encoded data removed]",
      "text/plain": [
       "<Figure size 432x288 with 1 Axes>"
      ]
     },
     "metadata": {
      "needs_background": "light"
     },
     "output_type": "display_data"
    }
   ],
   "source": [
    "from utils import plot_probabilities_histogram\n",
    "\n",
    "# Looking at probability histogram for training labels\n",
    "plot_probabilities_histogram(Y_ps['dev'][:,0], title=\"Probablistic Label Distribution\")"
   ]
  },
  {
   "cell_type": "markdown",
   "metadata": {},
   "source": [
    "Using the development set, we can also check that the class balance of our weak labels if we were to naively binarize at the 0.5 cutoff -- we see reasonable behavior here."
   ]
  },
  {
   "cell_type": "code",
   "execution_count": 17,
   "metadata": {},
   "outputs": [
    {
     "data": {
      "image/png": "[encoded data removed]",
      "text/plain": [
       "<Figure size 432x288 with 1 Axes>"
      ]
     },
     "metadata": {
      "needs_background": "light"
     },
     "output_type": "display_data"
    }
   ],
   "source": [
    "from utils import plot_predictions_histogram\n",
    "# Obtaining binarized predictions\n",
    "Y_dev_p = gm.predict(Ls['dev'])\n",
    "plot_predictions_histogram(Y_preds['dev'], Ys['dev'], title=\"Label Distribution\")"
   ]
  },
  {
   "cell_type": "markdown",
   "metadata": {},
   "source": [
    "## Step 7: Train a Weakly Supervised Target Modality Model"
   ]
  },
  {
   "cell_type": "markdown",
   "metadata": {},
   "source": [
    "Now that we have our weak training labels, we can train a commodity CNN using the high-level PyTorch API in Snorkel.  The entire process of defining and training the model can be executed in the following two simple cells.\n",
    "\n",
    "First, we define PyTorch `DataLoader` objects to efficiently load our image data, associating each image with the weak label generated from its associated report."
   ]
  },
  {
   "cell_type": "code",
   "execution_count": 30,
   "metadata": {},
   "outputs": [],
   "source": [
    "import torch\n",
    "from torchvision import models\n",
    "from utils import get_data_loader, create_model\n",
    "\n",
    "# Create pytorch model\n",
    "num_classes = 2\n",
    "cnn_model = models.resnet18(pretrained=True)\n",
    "weakly_supervised_model = create_model(cnn_model, num_classes)\n",
    "\n",
    "# Create data loaders\n",
    "loaders = {}\n",
    "for split in ['train', 'dev', 'test']:\n",
    "    labs = Y_ps[split] if split == 'train' else Ys[split]\n",
    "    loaders[split] = get_data_loader(data[split]['xray_paths'].tolist(), labs, split=split, batch_size=32, shuffle=True)"
   ]
  },
  {
   "cell_type": "markdown",
   "metadata": {},
   "source": [
    "As an example, a single datapoint yields an image like this:"
   ]
  },
  {
   "cell_type": "code",
   "execution_count": 31,
   "metadata": {},
   "outputs": [
    {
     "data": {
      "image/png": "[encoded data removed]",
      "text/plain": [
       "<Figure size 432x288 with 1 Axes>"
      ]
     },
     "metadata": {
      "needs_background": "light"
     },
     "output_type": "display_data"
    }
   ],
   "source": [
    "import matplotlib.pyplot as plt\n",
    "img, label = loaders['train'].dataset[0][0]['xray'], loaders['train'].dataset[0][1]['openi_task']\n",
    "\n",
    "plt.figure()\n",
    "plt.imshow(img[0,:,:],cmap='gray')\n",
    "plt.title(f'Example X-ray Image, Label: {label.numpy()}')\n",
    "ax = plt.axis('off')"
   ]
  },
  {
   "cell_type": "markdown",
   "metadata": {},
   "source": [
    "Now that our `DataLoaders` are set up, it is a simple matter to define and train our CNN model. \n",
    "\n",
    "Note: While this will run if you do not have a CUDA-based GPU available (and will automatically detect it if you do), it will proceed *much* faster if you have one!  CPU-only per-epoch training time is ~ 15 minutes, while with a Titan X it is approximately 30 s!"
   ]
  },
  {
   "cell_type": "code",
   "execution_count": 32,
   "metadata": {},
   "outputs": [
    {
     "name": "stderr",
     "output_type": "stream",
     "text": [
      "Epoch 0:: 100%|██████████| 83/83 [00:18<00:00,  4.54it/s, model/all/train/loss=0.721, model/all/train/lr=0.0001, openi_task/valid/valid/accuracy=0.566, openi_task/valid/valid/precision=0.814, openi_task/valid/valid/recall=0.405, openi_task/valid/valid/f1=0.541, openi_task/valid/valid/roc_auc=0.678]\n",
      "Epoch 1:: 100%|██████████| 83/83 [00:18<00:00,  4.55it/s, model/all/train/loss=0.537, model/all/train/lr=0.0001, openi_task/valid/valid/accuracy=0.678, openi_task/valid/valid/precision=0.697, openi_task/valid/valid/recall=0.865, openi_task/valid/valid/f1=0.772, openi_task/valid/valid/roc_auc=0.729]\n",
      "Epoch 2:: 100%|██████████| 83/83 [00:18<00:00,  4.55it/s, model/all/train/loss=0.404, model/all/train/lr=0.0001, openi_task/valid/valid/accuracy=0.697, openi_task/valid/valid/precision=0.719, openi_task/valid/valid/recall=0.852, openi_task/valid/valid/f1=0.78, openi_task/valid/valid/roc_auc=0.731] \n",
      "Epoch 3:: 100%|██████████| 83/83 [00:18<00:00,  4.54it/s, model/all/train/loss=0.364, model/all/train/lr=0.0001, openi_task/valid/valid/accuracy=0.662, openi_task/valid/valid/precision=0.668, openi_task/valid/valid/recall=0.924, openi_task/valid/valid/f1=0.775, openi_task/valid/valid/roc_auc=0.713]\n",
      "Epoch 4:: 100%|██████████| 83/83 [00:18<00:00,  4.55it/s, model/all/train/loss=0.355, model/all/train/lr=0.0001, openi_task/valid/valid/accuracy=0.691, openi_task/valid/valid/precision=0.701, openi_task/valid/valid/recall=0.89, openi_task/valid/valid/f1=0.784, openi_task/valid/valid/roc_auc=0.734] \n",
      "Epoch 5:: 100%|██████████| 83/83 [00:18<00:00,  4.56it/s, model/all/train/loss=0.343, model/all/train/lr=0.0001, openi_task/valid/valid/accuracy=0.633, openi_task/valid/valid/precision=0.751, openi_task/valid/valid/recall=0.624, openi_task/valid/valid/f1=0.682, openi_task/valid/valid/roc_auc=0.698]\n",
      "Epoch 6:: 100%|██████████| 83/83 [00:18<00:00,  4.55it/s, model/all/train/loss=0.334, model/all/train/lr=0.0001, openi_task/valid/valid/accuracy=0.707, openi_task/valid/valid/precision=0.738, openi_task/valid/valid/recall=0.831, openi_task/valid/valid/f1=0.782, openi_task/valid/valid/roc_auc=0.741]\n",
      "Epoch 7:: 100%|██████████| 83/83 [00:18<00:00,  4.54it/s, model/all/train/loss=0.329, model/all/train/lr=0.0001, openi_task/valid/valid/accuracy=0.699, openi_task/valid/valid/precision=0.707, openi_task/valid/valid/recall=0.895, openi_task/valid/valid/f1=0.79, openi_task/valid/valid/roc_auc=0.75]  \n",
      "Epoch 8:: 100%|██████████| 83/83 [00:18<00:00,  4.55it/s, model/all/train/loss=0.323, model/all/train/lr=0.0001, openi_task/valid/valid/accuracy=0.67, openi_task/valid/valid/precision=0.701, openi_task/valid/valid/recall=0.831, openi_task/valid/valid/f1=0.761, openi_task/valid/valid/roc_auc=0.685]\n",
      "Epoch 9:: 100%|██████████| 83/83 [00:18<00:00,  4.54it/s, model/all/train/loss=0.31, model/all/train/lr=0.0001, openi_task/valid/valid/accuracy=0.657, openi_task/valid/valid/precision=0.703, openi_task/valid/valid/recall=0.789, openi_task/valid/valid/f1=0.744, openi_task/valid/valid/roc_auc=0.703]\n"
     ]
    }
   ],
   "source": [
    "from snorkel.classification import Trainer\n",
    "\n",
    "trainer = Trainer(\n",
    "    n_epochs=10,  # increase for improved performance\n",
    "    lr=1e-4,\n",
    "    l2=1e-5,\n",
    "    checkpointing=True,\n",
    "    checkpointer_config={\"checkpoint_dir\": \"checkpoint\", \"checkpoint_metric\":\"openi_task/valid/valid/f1:max\"},\n",
    "    seed=1701\n",
    ")\n",
    "trainer.fit(weakly_supervised_model, [loaders['train'], loaders['dev'], loaders['test']])"
   ]
  },
  {
   "cell_type": "markdown",
   "metadata": {},
   "source": [
    "We can evaluate this model below, and see that we've learned some useful signal!  Remember that an Area Under the Receiver Operating Characteristic (ROC-AUC) score represents the probability across all possible cutoffs of ranking an abnormal example higher than a normal example.  If we've learned nothing useful, this value would be 0.5. \n",
    "\n",
    "You should expect a value above 0.70 for this training run."
   ]
  },
  {
   "cell_type": "code",
   "execution_count": 33,
   "metadata": {},
   "outputs": [
    {
     "name": "stdout",
     "output_type": "stream",
     "text": [
      "Evaluating Weakly Supervised Model\n",
      "Weakly Supervised Scores\n",
      "openi_task/test/test/accuracy : 69.3%\n",
      "openi_task/test/test/precision : 69.8%\n",
      "openi_task/test/test/recall : 88.4%\n",
      "openi_task/test/test/f1 : 78.0%\n",
      "openi_task/test/test/roc_auc : 75.2%\n"
     ]
    }
   ],
   "source": [
    "# Evaluating model\n",
    "print (f\"Evaluating Weakly Supervised Model\")\n",
    "weakly_supervised_scores = weakly_supervised_model.score(\n",
    "    [loaders['test']]\n",
    ")\n",
    "print(\"Weakly Supervised Scores\")\n",
    "_ = [print(f\"{k} : {v*100:.1f}%\") for (k,v) in weakly_supervised_scores.items()]"
   ]
  },
  {
   "cell_type": "markdown",
   "metadata": {},
   "source": [
    "## Step 8: Comparing to a Fully Supervised Target Modality Model"
   ]
  },
  {
   "cell_type": "markdown",
   "metadata": {},
   "source": [
    "Because we have ground-truth labels for the entire dataset in this case (the OpenI dataset comes with these labels, which require physicians to label thousands of images!), we can compare how well our weakly supervised target modality model does with the performance we achieve from a fully supervised model.\n",
    "\n",
    "Executing this requires a simple change to the training dataloader to provide it with ground-truth labels."
   ]
  },
  {
   "cell_type": "code",
   "execution_count": 34,
   "metadata": {},
   "outputs": [
    {
     "name": "stderr",
     "output_type": "stream",
     "text": [
      "Epoch 0:: 100%|██████████| 83/83 [00:18<00:00,  4.55it/s, model/all/train/loss=0.413, model/all/train/lr=0.0001, openi_task/valid/valid/accuracy=0.67, openi_task/valid/valid/precision=0.763, openi_task/valid/valid/recall=0.692, openi_task/valid/valid/f1=0.726, openi_task/valid/valid/roc_auc=0.751]\n",
      "Epoch 1:: 100%|██████████| 83/83 [00:18<00:00,  4.54it/s, model/all/train/loss=0.156, model/all/train/lr=0.0001, openi_task/valid/valid/accuracy=0.681, openi_task/valid/valid/precision=0.747, openi_task/valid/valid/recall=0.747, openi_task/valid/valid/f1=0.747, openi_task/valid/valid/roc_auc=0.725]\n",
      "Epoch 2:: 100%|██████████| 83/83 [00:18<00:00,  4.54it/s, model/all/train/loss=0.0584, model/all/train/lr=0.0001, openi_task/valid/valid/accuracy=0.673, openi_task/valid/valid/precision=0.684, openi_task/valid/valid/recall=0.895, openi_task/valid/valid/f1=0.775, openi_task/valid/valid/roc_auc=0.698]\n",
      "Epoch 3:: 100%|██████████| 83/83 [00:18<00:00,  4.55it/s, model/all/train/loss=0.0433, model/all/train/lr=0.0001, openi_task/valid/valid/accuracy=0.681, openi_task/valid/valid/precision=0.762, openi_task/valid/valid/recall=0.717, openi_task/valid/valid/f1=0.739, openi_task/valid/valid/roc_auc=0.719]\n",
      "Epoch 4:: 100%|██████████| 83/83 [00:18<00:00,  4.55it/s, model/all/train/loss=0.0491, model/all/train/lr=0.0001, openi_task/valid/valid/accuracy=0.705, openi_task/valid/valid/precision=0.74, openi_task/valid/valid/recall=0.819, openi_task/valid/valid/f1=0.778, openi_task/valid/valid/roc_auc=0.736] \n",
      "Epoch 5:: 100%|██████████| 83/83 [00:18<00:00,  4.56it/s, model/all/train/loss=0.0415, model/all/train/lr=0.0001, openi_task/valid/valid/accuracy=0.702, openi_task/valid/valid/precision=0.749, openi_task/valid/valid/recall=0.793, openi_task/valid/valid/f1=0.77, openi_task/valid/valid/roc_auc=0.725]\n",
      "Epoch 6:: 100%|██████████| 83/83 [00:18<00:00,  4.55it/s, model/all/train/loss=0.0503, model/all/train/lr=0.0001, openi_task/valid/valid/accuracy=0.689, openi_task/valid/valid/precision=0.699, openi_task/valid/valid/recall=0.89, openi_task/valid/valid/f1=0.783, openi_task/valid/valid/roc_auc=0.695]\n",
      "Epoch 7:: 100%|██████████| 83/83 [00:18<00:00,  4.55it/s, model/all/train/loss=0.0432, model/all/train/lr=0.0001, openi_task/valid/valid/accuracy=0.678, openi_task/valid/valid/precision=0.701, openi_task/valid/valid/recall=0.852, openi_task/valid/valid/f1=0.77, openi_task/valid/valid/roc_auc=0.669]\n",
      "Epoch 8:: 100%|██████████| 83/83 [00:18<00:00,  4.55it/s, model/all/train/loss=0.0516, model/all/train/lr=0.0001, openi_task/valid/valid/accuracy=0.694, openi_task/valid/valid/precision=0.713, openi_task/valid/valid/recall=0.861, openi_task/valid/valid/f1=0.78, openi_task/valid/valid/roc_auc=0.736]\n",
      "Epoch 9:: 100%|██████████| 83/83 [00:18<00:00,  4.54it/s, model/all/train/loss=0.042, model/all/train/lr=0.0001, openi_task/valid/valid/accuracy=0.684, openi_task/valid/valid/precision=0.695, openi_task/valid/valid/recall=0.886, openi_task/valid/valid/f1=0.779, openi_task/valid/valid/roc_auc=0.719] \n"
     ]
    }
   ],
   "source": [
    "from snorkel.utils.core import preds_to_probs\n",
    "fully_supervised_model = create_model(cnn_model, num_classes)\n",
    "\n",
    "# Replace training loader with fully supervised version\n",
    "loaders['train'] = get_data_loader(data['train']['xray_paths'].tolist(), preds_to_probs(Ys['train'], num_classes=2), split='train', batch_size=32, shuffle=True)\n",
    "\n",
    "# Training fully supervised model\n",
    "trainer.fit(fully_supervised_model, [loaders['train'], loaders['dev'], loaders['test']])"
   ]
  },
  {
   "cell_type": "code",
   "execution_count": 35,
   "metadata": {},
   "outputs": [
    {
     "name": "stdout",
     "output_type": "stream",
     "text": [
      "Evaluating Fully Supervised Model\n",
      "Fully Supervised Scores\n",
      "openi_task/test/test/accuracy : 69.8%\n",
      "openi_task/test/test/precision : 70.2%\n",
      "openi_task/test/test/recall : 88.8%\n",
      "openi_task/test/test/f1 : 78.4%\n",
      "openi_task/test/test/roc_auc : 75.6%\n"
     ]
    }
   ],
   "source": [
    "# Evaluating model\n",
    "print (f\"Evaluating Fully Supervised Model\")\n",
    "fully_supervised_scores = fully_supervised_model.score(\n",
    "    [loaders['test']]\n",
    ")\n",
    "print(\"Fully Supervised Scores\")\n",
    "_ = [print(f\"{k} : {v*100:.1f}%\") for (k,v) in fully_supervised_scores.items()]"
   ]
  },
  {
   "cell_type": "markdown",
   "metadata": {},
   "source": [
    "Now, we can compare the weakly and fully supervised models.  "
   ]
  },
  {
   "cell_type": "code",
   "execution_count": 36,
   "metadata": {},
   "outputs": [
    {
     "name": "stdout",
     "output_type": "stream",
     "text": [
      "Weakly Supervised Model Performance:\n",
      "roc_auc : 75.2%\n",
      "Fully Supervised Model Performance\n",
      "roc_auc : 75.6%\n"
     ]
    }
   ],
   "source": [
    "# Printing weakly supervised model performance\n",
    "print (f\"Weakly Supervised Model Performance:\")\n",
    "_ = [print(f\"{k.split('/')[-1]} : {v*100:.1f}%\") for (k,v) in weakly_supervised_scores.items() if 'roc_auc' in k]\n",
    "\n",
    "# Priting fully supervised model performance\n",
    "print (f\"Fully Supervised Model Performance\")\n",
    "fully_supervised_scores = fully_supervised_model.score(\n",
    "    [loaders['test']]\n",
    ")\n",
    "_ = [print(f\"{k.split('/')[-1]} : {v*100:.1f}%\") for (k,v) in fully_supervised_scores.items() if 'roc_auc' in k]"
   ]
  },
  {
   "cell_type": "markdown",
   "metadata": {},
   "source": [
    "If the models have trained successfully, you should observe that the weakly and fully supervised models both achieve ROC-AUC scores around 0.70-0.75.  This indicates that the weak labels we created using our labeling functions over the text have successfully allowed us to train a CNN model that performs similarly to one trained using ground truth, but *without having to label thousands of images*.  \n",
    "\n",
    "Further, we would expect the performance of the weakly supervised model to improve as more *unlabeled* data is added to this relatively small dataset!\n",
    "\n",
    "Congratulations! You've just trained a deep learning model using cross-modal data programming! "
   ]
  },
  {
   "cell_type": "markdown",
   "metadata": {},
   "source": [
    "## Summary"
   ]
  },
  {
   "cell_type": "markdown",
   "metadata": {},
   "source": [
    "In this tutorial, we accomplished the following:\n",
    "\n",
    "* We showed how Snorkel can be used to leverage one modality -- like text -- to train models over another modality, such as images \n",
    "* We showed using weak supervision with Snorkel can lead to models that perform very similarly to those trained with hand-labeled data, but using a fraction of the labeling resources "
   ]
  }
 ],
 "metadata": {
  "kernelspec": {
   "display_name": "snorkel",
   "language": "python",
   "name": "snorkel"
  },
  "language_info": {
   "codemirror_mode": {
    "name": "ipython",
    "version": 3
   },
   "file_extension": ".py",
   "mimetype": "text/x-python",
   "name": "python",
   "nbconvert_exporter": "python",
   "pygments_lexer": "ipython3",
   "version": "3.6.9"
  }
 },
 "nbformat": 4,
 "nbformat_minor": 4
}
